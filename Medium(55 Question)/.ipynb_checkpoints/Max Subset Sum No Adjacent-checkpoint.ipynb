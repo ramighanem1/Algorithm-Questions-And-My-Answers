{
 "cells": [
  {
   "cell_type": "markdown",
   "id": "3bebef17",
   "metadata": {},
   "source": [
    "# Max Subset Sum No Adjacent :\n",
    "\n",
    "Write a function that takes in an array of positive integers and returns the maximum sum of non-adjacent elements in the array.\n",
    "  \n",
    "If the input array is empty, the function should return 0."
   ]
  },
  {
   "cell_type": "code",
   "execution_count": 3,
   "id": "9bd9d526",
   "metadata": {},
   "outputs": [],
   "source": [
    "# O(n) time | O(1) space\n",
    "def maxSubsetSumNoAdjacent(array):\n",
    "    # Write your code here.\n",
    "    if len(array)==0:\n",
    "        return 0\n",
    "    if len(array)==1:\n",
    "        return array[0]\n",
    "    if len(array)==2:\n",
    "        return max(array[0],array[1])\n",
    "    \n",
    "    MaxSum_1=array[0]\n",
    "    MaxSum_2=max(array[0],array[1])\n",
    "    for i in range(2,len(array)):\n",
    "        MaxSum_Result=max(MaxSum_2,MaxSum_1+array[i])\n",
    "        MaxSum_1=MaxSum_2\n",
    "        MaxSum_2=MaxSum_Result\n",
    "        \n",
    "    return MaxSum_Result"
   ]
  },
  {
   "cell_type": "code",
   "execution_count": 4,
   "id": "5c4f786f",
   "metadata": {},
   "outputs": [
    {
     "name": "stdout",
     "output_type": "stream",
     "text": [
      "330\n",
      "0\n",
      "1\n",
      "2\n",
      "4\n",
      "15\n",
      "33\n",
      "207\n",
      "60\n",
      "90\n"
     ]
    }
   ],
   "source": [
    "print(maxSubsetSumNoAdjacent([75, 105, 120, 75, 90, 135]))\n",
    "print(maxSubsetSumNoAdjacent([]))\n",
    "print(maxSubsetSumNoAdjacent([1]))\n",
    "print(maxSubsetSumNoAdjacent([1, 2]))\n",
    "print(maxSubsetSumNoAdjacent([1, 2, 3]))\n",
    "print(maxSubsetSumNoAdjacent([1, 15, 3]))\n",
    "print(maxSubsetSumNoAdjacent([7, 10, 12, 7, 9, 14]))\n",
    "print(maxSubsetSumNoAdjacent([4, 3, 5, 200, 5, 3]))\n",
    "print(maxSubsetSumNoAdjacent([10, 5, 20, 25, 15, 5, 5, 15]))\n",
    "print(maxSubsetSumNoAdjacent([10, 5, 20, 25, 15, 5, 5, 15, 3, 15, 5, 5, 15]))"
   ]
  },
  {
   "cell_type": "code",
   "execution_count": null,
   "id": "8f575195",
   "metadata": {},
   "outputs": [],
   "source": []
  }
 ],
 "metadata": {
  "kernelspec": {
   "display_name": "Python 3 (ipykernel)",
   "language": "python",
   "name": "python3"
  },
  "language_info": {
   "codemirror_mode": {
    "name": "ipython",
    "version": 3
   },
   "file_extension": ".py",
   "mimetype": "text/x-python",
   "name": "python",
   "nbconvert_exporter": "python",
   "pygments_lexer": "ipython3",
   "version": "3.9.7"
  }
 },
 "nbformat": 4,
 "nbformat_minor": 5
}
