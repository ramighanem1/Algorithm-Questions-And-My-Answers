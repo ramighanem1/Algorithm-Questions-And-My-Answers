{
 "cells": [
  {
   "cell_type": "markdown",
   "id": "9a848dc0",
   "metadata": {},
   "source": [
    "# Smallest Difference : \n",
    "\n",
    "Write a function that takes in two non-empty arrays of integers, finds the pair of numbers (one from each array) whose absolute difference is closest to zero, and returns an array containing these two numbers, with the number from the first array in the first position.\n",
    "\n",
    "Note that the absolute difference of two integers is the distance between them on the real number line. For example, the absolute difference of -5 and 5 is 10, and the absolute difference of -5 and -4 is 1.\n",
    "\n",
    "You can assume that there will only be one pair of numbers with the smallest difference."
   ]
  },
  {
   "cell_type": "code",
   "execution_count": 3,
   "id": "18b03e7f",
   "metadata": {},
   "outputs": [
    {
     "name": "stdout",
     "output_type": "stream",
     "text": [
      "[28, 26]\n",
      "[20, 17]\n",
      "[25, 1005]\n",
      "[25, 1005]\n",
      "[2000, 1032]\n"
     ]
    }
   ],
   "source": [
    "#  time  complexity is O(nlog(n)) \n",
    "#  space complexity is O(1)\n",
    "\n",
    "def smallestDifference(arrayOne, arrayTwo):\n",
    "    arrayOne.sort()\n",
    "    arrayTwo.sort()\n",
    "    lenOne=len(arrayOne)\n",
    "    lenTwo=len(arrayTwo)\n",
    "    IndexOne=0\n",
    "    IndexTwo=0\n",
    "    Smallest=float(\"inf\")\n",
    "    Current=float(\"inf\")\n",
    "    Result=[]\n",
    "    while IndexOne < lenOne and  IndexTwo < lenTwo:\n",
    "        FNum=arrayOne[IndexOne]\n",
    "        SNum=arrayTwo[IndexTwo]\n",
    "        if FNum == SNum:\n",
    "            return [FNum , SNum]\n",
    "        \n",
    "        if FNum < SNum:\n",
    "            Current= SNum-FNum\n",
    "            IndexOne+=1\n",
    "        else:\n",
    "            Current= FNum-SNum\n",
    "            IndexTwo+=1\n",
    "            \n",
    "        if Smallest > Current:\n",
    "            Smallest=Current\n",
    "            Result=[FNum , SNum]\n",
    "    return Result\n",
    "\n",
    "\n",
    "\n",
    "  \n",
    "\n",
    "print(smallestDifference([-1, 5, 10, 20, 28, 3], [26, 134, 135, 15, 17]))\n",
    "print(smallestDifference([-1, 5, 10, 20, 3], [26, 134, 135, 15, 17]))\n",
    "print(smallestDifference([10, 0, 20, 25], [1005, 1006, 1014, 1032, 1031]))\n",
    "print(smallestDifference([10, 0, 20, 25, 2200], [1005, 1006, 1014, 1032, 1031]))\n",
    "print(smallestDifference([10, 0, 20, 25, 2000], [1005, 1006, 1014, 1032, 1031]))"
   ]
  },
  {
   "cell_type": "code",
   "execution_count": null,
   "id": "6181d9a4",
   "metadata": {},
   "outputs": [],
   "source": []
  }
 ],
 "metadata": {
  "kernelspec": {
   "display_name": "Python 3 (ipykernel)",
   "language": "python",
   "name": "python3"
  },
  "language_info": {
   "codemirror_mode": {
    "name": "ipython",
    "version": 3
   },
   "file_extension": ".py",
   "mimetype": "text/x-python",
   "name": "python",
   "nbconvert_exporter": "python",
   "pygments_lexer": "ipython3",
   "version": "3.9.7"
  }
 },
 "nbformat": 4,
 "nbformat_minor": 5
}
