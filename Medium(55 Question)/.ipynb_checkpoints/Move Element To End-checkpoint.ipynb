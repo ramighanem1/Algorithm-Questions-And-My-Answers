{
 "cells": [
  {
   "cell_type": "markdown",
   "id": "1fb7603d",
   "metadata": {},
   "source": [
    "# Move Element To End : \n",
    "\n",
    "You're given an array of integers and an integer. Write a function that moves all instances of that integer in the array to the end of the array and returns the array.\n",
    "  \n",
    "The function should perform this in place (i.e., it should mutate the input array) and doesn't need to maintain the order of the other integers."
   ]
  },
  {
   "cell_type": "code",
   "execution_count": 4,
   "id": "696b34bc",
   "metadata": {},
   "outputs": [
    {
     "name": "stdout",
     "output_type": "stream",
     "text": [
      "[4, 1, 3, 2, 2, 2, 2, 2]\n",
      "[]\n",
      "[1, 2, 4, 5, 6]\n",
      "[3, 3, 3, 3, 3]\n",
      "[5, 1, 2, 4, 3]\n",
      "[1, 2, 4, 5, 3]\n",
      "[6, 4, 5, 2, 2, 2, 2]\n"
     ]
    }
   ],
   "source": [
    "#  time  complexity is O(n) \n",
    "#  space complexity is O(1)\n",
    "\n",
    "def moveElementToEnd(array, toMove):\n",
    "    indexOne=0\n",
    "    indexTwo=len(array)-1\n",
    "    while indexOne < indexTwo:\n",
    "        if array[indexTwo] ==toMove:\n",
    "            indexTwo-=1\n",
    "        elif array[indexOne] == toMove:\n",
    "            temNum=array[indexTwo]\n",
    "            array[indexTwo]=array[indexOne]\n",
    "            array[indexOne]=temNum\n",
    "            indexTwo-=1\n",
    "            indexOne+=1\n",
    "        else:\n",
    "            indexOne+=1\n",
    "    return array\n",
    "\n",
    "\n",
    "print(moveElementToEnd([2, 1, 2, 2, 2, 3, 4, 2], 2))\n",
    "print(moveElementToEnd([], 3))\n",
    "print(moveElementToEnd([1, 2, 4, 5, 6], 3))\n",
    "print(moveElementToEnd([3, 3, 3, 3, 3], 3))\n",
    "print(moveElementToEnd([3, 1, 2, 4, 5], 3))\n",
    "print(moveElementToEnd([1, 2, 4, 5, 3], 3))\n",
    "print(moveElementToEnd([2, 4, 2, 5, 6, 2, 2], 2))"
   ]
  },
  {
   "cell_type": "code",
   "execution_count": null,
   "id": "7915ab41",
   "metadata": {},
   "outputs": [],
   "source": []
  }
 ],
 "metadata": {
  "kernelspec": {
   "display_name": "Python 3 (ipykernel)",
   "language": "python",
   "name": "python3"
  },
  "language_info": {
   "codemirror_mode": {
    "name": "ipython",
    "version": 3
   },
   "file_extension": ".py",
   "mimetype": "text/x-python",
   "name": "python",
   "nbconvert_exporter": "python",
   "pygments_lexer": "ipython3",
   "version": "3.9.7"
  }
 },
 "nbformat": 4,
 "nbformat_minor": 5
}
