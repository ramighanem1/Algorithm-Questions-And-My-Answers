{
 "cells": [
  {
   "cell_type": "markdown",
   "id": "1d122f18",
   "metadata": {},
   "source": [
    "# Remove Kth Node From End :\n",
    "\n",
    "Write a function that takes in the head of a Singly Linked List and an integer k and removes the kth node from the end of the list.\n",
    "  \n",
    "The removal should be done in place, meaning that the original data structure should be mutated (no new structure should be created).\n",
    "\n",
    "Furthermore, the input head of the linked list should remain the head of the linked list after the removal is done, even if the head is the node that's supposed to be removed. In other words, if the head is the node that's supposed to be removed, your function should simply mutate its value and next pointer.\n",
    "\n",
    "Note that your function doesn't need to return anything.\n",
    " \n",
    "You can assume that the input Linked List will always have at least two nodes and, more specifically, at least k nodes.\n",
    "\n",
    "Each LinkedList node has an integer value as well as a next node pointing to the next node in the list or to None / null if it's the tail of the list."
   ]
  },
  {
   "cell_type": "code",
   "execution_count": 5,
   "id": "68a2af92",
   "metadata": {},
   "outputs": [],
   "source": [
    "class LinkedList:\n",
    "    def __init__(self, value):\n",
    "        self.value = value\n",
    "        self.next = None\n",
    "\n",
    " # O(n) time , O(1) space\n",
    "def removeKthNodeFromEnd(head, k):\n",
    "    # Write your code here.\n",
    "    count = 1\n",
    "    First = head\n",
    "    Second = head\n",
    "    while count <= k:\n",
    "        Second= Second.next\n",
    "        count +=1\n",
    "    if Second is None:\n",
    "        head.value = head.next.value\n",
    "        head.next = head.next.next\n",
    "        return\n",
    "    while Second.next is not None:\n",
    "        Second = Second.next\n",
    "        First = First.next\n",
    "    First.next = First.next.next"
   ]
  },
  {
   "cell_type": "code",
   "execution_count": 6,
   "id": "93b91304",
   "metadata": {},
   "outputs": [
    {
     "name": "stdout",
     "output_type": "stream",
     "text": [
      "True\n"
     ]
    }
   ],
   "source": [
    "class StartLinkedList:\n",
    "    def __init__(self, value):\n",
    "        self.value = value\n",
    "        self.next = None\n",
    "\n",
    "\n",
    "linkedListClass = StartLinkedList\n",
    "\n",
    "class LinkedList(linkedListClass):\n",
    "    def addMany(self, values):\n",
    "        current = self\n",
    "        while current.next is not None:\n",
    "            current = current.next\n",
    "        for value in values:\n",
    "            current.next = LinkedList(value)\n",
    "            current = current.next\n",
    "        return self\n",
    "\n",
    "    def getNodesInArray(self):\n",
    "        nodes = []\n",
    "        current = self\n",
    "        while current is not None:\n",
    "            nodes.append(current.value)\n",
    "            current = current.next\n",
    "        return nodes\n",
    "\n",
    "\n",
    "test = LinkedList(0).addMany([1, 2, 3, 4, 5, 6, 7, 8, 9])\n",
    "expected = LinkedList(0).addMany([1, 2, 3, 4, 5, 7, 8, 9])\n",
    "removeKthNodeFromEnd(test, 4)\n",
    "print(test.getNodesInArray()== expected.getNodesInArray())\n"
   ]
  },
  {
   "cell_type": "code",
   "execution_count": null,
   "id": "c1c91d02",
   "metadata": {},
   "outputs": [],
   "source": []
  }
 ],
 "metadata": {
  "kernelspec": {
   "display_name": "Python 3 (ipykernel)",
   "language": "python",
   "name": "python3"
  },
  "language_info": {
   "codemirror_mode": {
    "name": "ipython",
    "version": 3
   },
   "file_extension": ".py",
   "mimetype": "text/x-python",
   "name": "python",
   "nbconvert_exporter": "python",
   "pygments_lexer": "ipython3",
   "version": "3.9.7"
  }
 },
 "nbformat": 4,
 "nbformat_minor": 5
}
