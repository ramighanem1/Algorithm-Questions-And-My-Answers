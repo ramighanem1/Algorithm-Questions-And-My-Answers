{
 "cells": [
  {
   "cell_type": "markdown",
   "id": "2865eae6",
   "metadata": {},
   "source": [
    "# Validate BST : \n",
    "\n",
    "Write a function that takes in a potentially invalid Binary Search Tree (BST) and returns a boolean representing whether the BST is valid.\n",
    "\n",
    "Each BST node has an integer value, a left child node, and a right child node. A node is said to be a valid BST node if and only if it satisfies the BST property: its value is strictly greater than the values of every node to its left; its value is less than or equal to the values of every node to its right; and its children nodes are either valid BST nodes themselves or None / null.\n",
    "\n",
    "A BST is valid if and only if all of its nodes are valid BST nodes.\n"
   ]
  },
  {
   "cell_type": "code",
   "execution_count": 2,
   "id": "8a61392d",
   "metadata": {},
   "outputs": [],
   "source": [
    "O(n) time | O(d) space\n",
    "\n",
    "class BST:\n",
    "    def __init__(self, value):\n",
    "        self.value = value\n",
    "        self.left = None\n",
    "        self.right = None\n",
    "\n",
    "\n",
    "def validateBst(tree):\n",
    "    return validateBstRecursive(tree,float(\"-inf\"),float(\"inf\"))\n",
    "def validateBstRecursive(tree,MinNum,MaxNum):\n",
    "    if tree is None:\n",
    "        return True\n",
    "    if tree.value < MinNum or tree.value >=MaxNum:\n",
    "        return False\n",
    "    return  validateBstRecursive(tree.left,MinNum,tree.value) and validateBstRecursive(tree.right,tree.value,MaxNum)"
   ]
  },
  {
   "cell_type": "code",
   "execution_count": 3,
   "id": "fc743177",
   "metadata": {},
   "outputs": [
    {
     "name": "stdout",
     "output_type": "stream",
     "text": [
      "True\n"
     ]
    }
   ],
   "source": [
    "root = BST(10)\n",
    "root.left = BST(5)\n",
    "root.left.left = BST(2)\n",
    "root.left.left.left = BST(1)\n",
    "root.left.right = BST(5)\n",
    "root.right = BST(15)\n",
    "root.right.left = BST(13)\n",
    "root.right.left.right = BST(14)\n",
    "root.right.right = BST(22)\n",
    "print(validateBst(root))"
   ]
  },
  {
   "cell_type": "code",
   "execution_count": null,
   "id": "2469dcdf",
   "metadata": {},
   "outputs": [],
   "source": []
  }
 ],
 "metadata": {
  "kernelspec": {
   "display_name": "Python 3 (ipykernel)",
   "language": "python",
   "name": "python3"
  },
  "language_info": {
   "codemirror_mode": {
    "name": "ipython",
    "version": 3
   },
   "file_extension": ".py",
   "mimetype": "text/x-python",
   "name": "python",
   "nbconvert_exporter": "python",
   "pygments_lexer": "ipython3",
   "version": "3.9.7"
  }
 },
 "nbformat": 4,
 "nbformat_minor": 5
}
