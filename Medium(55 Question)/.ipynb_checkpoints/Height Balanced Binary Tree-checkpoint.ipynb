{
 "cells": [
  {
   "cell_type": "markdown",
   "id": "517605c2",
   "metadata": {},
   "source": [
    "# Height Balanced Binary Tree : \n",
    "\n",
    "You're given the root node of a Binary Tree. Write a function that returns true if this Binary Tree is height balanced and false if it isn't.\n",
    "\n",
    "A Binary Tree is height balanced if for each node in the tree, the difference between the height of its left subtree and the height of its right subtree is at most 1.\n",
    "\n",
    "Each BinaryTree node has an integer value, a left child node, and a right child node. Children nodes can either be BinaryTree nodes themselves or None / null."
   ]
  },
  {
   "cell_type": "code",
   "execution_count": 1,
   "id": "09b312bf",
   "metadata": {},
   "outputs": [],
   "source": [
    "# This is an input class. Do not edit.\n",
    "class BinaryTree:\n",
    "    def __init__(self, value, left=None, right=None):\n",
    "        self.value = value\n",
    "        self.left = left\n",
    "        self.right = right\n",
    "\n",
    "# O(n^2) time | O(h) space\n",
    "def heightBalancedBinaryTree(tree):\n",
    "    if tree is None:\n",
    "        return True\n",
    "    \n",
    "    if (abs(getHeight(tree.left)-getHeight(tree.right)) <= 1) and heightBalancedBinaryTree(tree.left) is True and heightBalancedBinaryTree( tree.right) is True:\n",
    "        return True\n",
    "    return False\n",
    "\n",
    "\n",
    "def getHeight(tree):\n",
    "    if tree is None:\n",
    "        return 0 \n",
    "    return max(getHeight(tree.left), getHeight(tree.right)) + 1"
   ]
  },
  {
   "cell_type": "code",
   "execution_count": 2,
   "id": "8748263a",
   "metadata": {},
   "outputs": [
    {
     "name": "stdout",
     "output_type": "stream",
     "text": [
      "True\n"
     ]
    }
   ],
   "source": [
    "root = BinaryTree(1)\n",
    "root.left = BinaryTree(2)\n",
    "root.right = BinaryTree(3)\n",
    "root.left.left = BinaryTree(4)\n",
    "root.left.right = BinaryTree(5)\n",
    "root.right.right = BinaryTree(6)\n",
    "root.left.right.left = BinaryTree(7)\n",
    "root.left.right.right = BinaryTree(8)\n",
    "expected = True\n",
    "actual = heightBalancedBinaryTree(root)\n",
    "print(actual == expected)"
   ]
  },
  {
   "cell_type": "code",
   "execution_count": null,
   "id": "ce71d1c9",
   "metadata": {},
   "outputs": [],
   "source": []
  }
 ],
 "metadata": {
  "kernelspec": {
   "display_name": "Python 3 (ipykernel)",
   "language": "python",
   "name": "python3"
  },
  "language_info": {
   "codemirror_mode": {
    "name": "ipython",
    "version": 3
   },
   "file_extension": ".py",
   "mimetype": "text/x-python",
   "name": "python",
   "nbconvert_exporter": "python",
   "pygments_lexer": "ipython3",
   "version": "3.9.7"
  }
 },
 "nbformat": 4,
 "nbformat_minor": 5
}
