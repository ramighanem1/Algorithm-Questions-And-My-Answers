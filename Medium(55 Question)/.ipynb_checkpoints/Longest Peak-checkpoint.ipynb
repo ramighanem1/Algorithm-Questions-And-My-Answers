{
 "cells": [
  {
   "cell_type": "markdown",
   "id": "b18c9da7",
   "metadata": {},
   "source": [
    "# Longest Peak :\n",
    "\n",
    "Write a function that takes in an array of integers and returns the length of the longest peak in the array.\n",
    "\n",
    "A peak is defined as adjacent integers in the array that are strictly increasing until they reach a tip (the highest value in the peak), at which point they become strictly decreasing. At least three integers are required to form a peak.\n",
    "\n",
    "For example, the integers 1, 4, 10, 2 form a peak, but the integers 4, 0, 10 don't and neither do the integers 1, 2, 2, 0. Similarly, the integers 1, 2, 3 don't form a peak because there aren't any strictly decreasing integers after the 3."
   ]
  },
  {
   "cell_type": "code",
   "execution_count": 13,
   "id": "58a12362",
   "metadata": {},
   "outputs": [
    {
     "name": "stdout",
     "output_type": "stream",
     "text": [
      "6\n",
      "0\n",
      "3\n",
      "6\n",
      "3\n",
      "5\n",
      "0\n",
      "0\n",
      "0\n",
      "4\n",
      "5\n",
      "9\n",
      "3\n"
     ]
    }
   ],
   "source": [
    "#  time  complexity is O(n) \n",
    "#  space complexity is O(1)\n",
    "\n",
    "def longestPeak(array):\n",
    "    Peak = dict()\n",
    "    \n",
    "    for index in range(1,len(array)-1):\n",
    "        if array[index] > array[index-1] and array[index] > array[index+1]:\n",
    "            Peak[index]=3\n",
    "                \n",
    "    for index,Count in Peak.items():\n",
    "        i1=index-1\n",
    "        i2=index+1\n",
    "        while i1 >=1:\n",
    "            if array[i1] > array[i1-1]:\n",
    "                Count+=1\n",
    "                i1-=1\n",
    "            else:\n",
    "                break\n",
    "            \n",
    "        while i2 <=len(array)-2:\n",
    "            if array[i2] > array[i2+1]:\n",
    "                Count+=1\n",
    "                i2+=1\n",
    "            else:\n",
    "                break\n",
    "            \n",
    "        Peak[index]=Count\n",
    "        \n",
    "    \n",
    "    f= lambda x : 0 if len(x)==0  else max(x.values())\n",
    "    \n",
    "    return f(Peak)\n",
    "\n",
    "print(longestPeak([1, 2, 3, 3, 4, 0, 10, 6, 5, -1, -3, 2, 3]))\n",
    "print(longestPeak([]))\n",
    "print(longestPeak([1, 3, 2]))\n",
    "print(longestPeak([1, 2, 3, 4, 5, 1]))\n",
    "print(longestPeak([5, 4, 3, 2, 1, 2, 1]))\n",
    "print(longestPeak([5, 4, 3, 2, 1, 2, 10, 12, -3, 5, 6, 7, 10]))\n",
    "print(longestPeak([5, 4, 3, 2, 1, 2, 10, 12]))\n",
    "print(longestPeak([1, 2, 3, 4, 5, 6, 10, 100, 1000]))\n",
    "print(longestPeak([1, 2, 3, 3, 2, 1]))\n",
    "print(longestPeak([1, 1, 3, 2, 1]))\n",
    "print(longestPeak([1, 2, 3, 2, 1, 1]))\n",
    "print(longestPeak([1, 1, 1, 2, 3, 10, 12, -3, -3, 2, 3, 45, 800, 99, 98, 0, -1, -1, 2, 3, 4, 5, 0, -1, -1]))\n",
    "print(longestPeak([1, 2, 3, 3, 4, 0, 10]))"
   ]
  },
  {
   "cell_type": "code",
   "execution_count": null,
   "id": "298f1550",
   "metadata": {},
   "outputs": [],
   "source": []
  }
 ],
 "metadata": {
  "kernelspec": {
   "display_name": "Python 3 (ipykernel)",
   "language": "python",
   "name": "python3"
  },
  "language_info": {
   "codemirror_mode": {
    "name": "ipython",
    "version": 3
   },
   "file_extension": ".py",
   "mimetype": "text/x-python",
   "name": "python",
   "nbconvert_exporter": "python",
   "pygments_lexer": "ipython3",
   "version": "3.9.7"
  }
 },
 "nbformat": 4,
 "nbformat_minor": 5
}
