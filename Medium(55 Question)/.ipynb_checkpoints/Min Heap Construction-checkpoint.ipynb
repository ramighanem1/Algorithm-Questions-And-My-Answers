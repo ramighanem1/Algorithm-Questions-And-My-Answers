{
 "cells": [
  {
   "cell_type": "markdown",
   "id": "8a1d2329",
   "metadata": {},
   "source": [
    "# Min Heap Construction : \n",
    "\n",
    "Implement a MinHeap class that supports:\n",
    "    1) Building a Min Heap from an input array of integers.\n",
    "    2) Inserting integers in the heap.\n",
    "    3) Removing the heap's minimum / root value.\n",
    "    4) Peeking at the heap's minimum / root value.\n",
    "    5) Sifting integers up and down the heap, which is to be used when inserting and removing values.\n",
    "  \n",
    "Note that the heap should be represented in the form of an array.\n",
    "\n",
    "If you're unfamiliar with Min Heaps, we recommend watching the Conceptual Overview section of this question's video explanation before starting to code."
   ]
  },
  {
   "cell_type": "code",
   "execution_count": 4,
   "id": "af3e3f7e",
   "metadata": {},
   "outputs": [],
   "source": [
    "# Do not edit the class below except for the buildHeap,\n",
    "# siftDown, siftUp, peek, remove, and insert methods.\n",
    "# Feel free to add new properties and methods to the class.\n",
    "class MinHeap:\n",
    "    def __init__(self, array):\n",
    "        # Do not edit the line below.\n",
    "        self.heap = self.buildHeap(array)\n",
    "\n",
    "    # O(n) time , O(1) space\n",
    "    def buildHeap(self, array):\n",
    "        # Write your code here.\n",
    "        FirstParentIndex = (len(array)-2) // 2\n",
    "        for CurrentIndex in reversed(range(FirstParentIndex + 1)):\n",
    "            self.siftDown(CurrentIndex,len(array)-1,array)\n",
    "        return array\n",
    "    \n",
    "    # O(log(n)) time , O(1) space\n",
    "    def siftDown(self,CurrentIndex,EndIndex,heap):\n",
    "        # Write your code here.\n",
    "        ChildOneIndex = 2 * CurrentIndex + 1\n",
    "        while ChildOneIndex <= EndIndex:\n",
    "            ChildTwoIndex = 2 * CurrentIndex + 2 if 2 * CurrentIndex + 2 <=EndIndex else -1\n",
    "            if ChildTwoIndex != -1 and heap[ChildTwoIndex] < heap[ChildOneIndex]:\n",
    "                IndexToSwap=ChildTwoIndex\n",
    "            else:\n",
    "                IndexToSwap=ChildOneIndex\n",
    "            if heap[IndexToSwap] < heap[CurrentIndex]:\n",
    "                heap[IndexToSwap],heap[CurrentIndex]=heap[CurrentIndex],heap[IndexToSwap]\n",
    "                CurrentIndex = IndexToSwap\n",
    "                ChildOneIndex = 2 * CurrentIndex + 1\n",
    "            else:\n",
    "                return \n",
    "    # O(log(n)) time , O(1) space\n",
    "    def siftUp(self,CurrentIndex,heap):\n",
    "        # Write your code here.\n",
    "        parentIndex= (CurrentIndex-1) // 2\n",
    "        while CurrentIndex > 0 and heap[CurrentIndex] < heap[parentIndex]:\n",
    "            heap[CurrentIndex],heap[parentIndex]=heap[parentIndex],heap[CurrentIndex]\n",
    "            CurrentIndex=parentIndex\n",
    "            parentIndex= (CurrentIndex-1) // 2\n",
    "            \n",
    "    # O(1) time , O(1) space\n",
    "    def peek(self):\n",
    "        # Write your code here.\n",
    "        return self.heap[0]\n",
    "    \n",
    "    # O(log(n)) time , O(1) space\n",
    "    def remove(self):\n",
    "        # Write your code here.\n",
    "        self.heap[0],self.heap[len(self.heap)-1]=self.heap[len(self.heap)-1],self.heap[0]\n",
    "        value = self.heap.pop()\n",
    "        self.siftDown(0,len(self.heap)-1,self.heap)\n",
    "        return value\n",
    "        \n",
    "    # O(log(n)) time , O(1) space\n",
    "    def insert(self, value):\n",
    "        # Write your code here.\n",
    "        self.heap.append(value)\n",
    "        self.siftUp(len(self.heap)-1,self.heap)\n"
   ]
  },
  {
   "cell_type": "code",
   "execution_count": 5,
   "id": "1f974725",
   "metadata": {},
   "outputs": [
    {
     "name": "stdout",
     "output_type": "stream",
     "text": [
      "True\n",
      "True\n",
      "True\n",
      "True\n",
      "True\n",
      "True\n",
      "True\n",
      "True\n",
      "True\n"
     ]
    }
   ],
   "source": [
    "def isMinHeapPropertySatisfied(array):\n",
    "    for currentIdx in range(1, len(array)):\n",
    "        parentIdx = (currentIdx - 1) // 2\n",
    "        if array[parentIdx] > array[currentIdx]:\n",
    "            return False\n",
    "    return True\n",
    "\n",
    "minHeap = MinHeap([48, 12, 24, 7, 8, -5, 24, 391, 24, 56, 2, 6, 8, 41])\n",
    "minHeap.insert(76)\n",
    "print(isMinHeapPropertySatisfied(minHeap.heap))\n",
    "print(minHeap.peek() == -5)\n",
    "print(minHeap.remove() == -5)\n",
    "print(isMinHeapPropertySatisfied(minHeap.heap))\n",
    "print(minHeap.peek() == 2)\n",
    "print(minHeap.remove() == 2)\n",
    "print(isMinHeapPropertySatisfied(minHeap.heap))\n",
    "print(minHeap.peek() == 6)\n",
    "minHeap.insert(87)\n",
    "print(isMinHeapPropertySatisfied(minHeap.heap))"
   ]
  },
  {
   "cell_type": "code",
   "execution_count": null,
   "id": "24e52e38",
   "metadata": {},
   "outputs": [],
   "source": []
  }
 ],
 "metadata": {
  "kernelspec": {
   "display_name": "Python 3 (ipykernel)",
   "language": "python",
   "name": "python3"
  },
  "language_info": {
   "codemirror_mode": {
    "name": "ipython",
    "version": 3
   },
   "file_extension": ".py",
   "mimetype": "text/x-python",
   "name": "python",
   "nbconvert_exporter": "python",
   "pygments_lexer": "ipython3",
   "version": "3.9.7"
  }
 },
 "nbformat": 4,
 "nbformat_minor": 5
}
