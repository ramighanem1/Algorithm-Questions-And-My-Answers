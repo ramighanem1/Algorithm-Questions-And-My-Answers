{
 "cells": [
  {
   "cell_type": "markdown",
   "id": "0611d4dc",
   "metadata": {},
   "source": [
    "# Invert Binary Tree : \n",
    "\n",
    "Write a function that takes in a Binary Tree and inverts it. In other words, the function should swap every left node in the tree for its corresponding right node.\n",
    "    \n",
    "Each BinaryTree node has an integer value, a left child node, and a right child node. Children nodes can either be BinaryTree nodes themselves or None / null."
   ]
  },
  {
   "cell_type": "code",
   "execution_count": 1,
   "id": "67f2d295",
   "metadata": {},
   "outputs": [],
   "source": [
    "# O(n) time | O(h) space\n",
    "# This is the class of the input binary tree.\n",
    "class BinaryTree:\n",
    "    def __init__(self, value):\n",
    "        self.value = value\n",
    "        self.left = None\n",
    "        self.right = None\n",
    "\n",
    "        \n",
    "def invertBinaryTree(tree):\n",
    "    if tree is None:\n",
    "        return None\n",
    "    tree.left,tree.right = tree.right,tree.left\n",
    "    invertBinaryTree(tree.left)\n",
    "    invertBinaryTree(tree.right)"
   ]
  },
  {
   "cell_type": "code",
   "execution_count": null,
   "id": "231112b5",
   "metadata": {},
   "outputs": [],
   "source": []
  }
 ],
 "metadata": {
  "kernelspec": {
   "display_name": "Python 3 (ipykernel)",
   "language": "python",
   "name": "python3"
  },
  "language_info": {
   "codemirror_mode": {
    "name": "ipython",
    "version": 3
   },
   "file_extension": ".py",
   "mimetype": "text/x-python",
   "name": "python",
   "nbconvert_exporter": "python",
   "pygments_lexer": "ipython3",
   "version": "3.9.7"
  }
 },
 "nbformat": 4,
 "nbformat_minor": 5
}
