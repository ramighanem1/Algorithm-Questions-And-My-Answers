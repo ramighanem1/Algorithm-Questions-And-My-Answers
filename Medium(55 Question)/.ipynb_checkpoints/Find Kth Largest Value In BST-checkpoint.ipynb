{
 "cells": [
  {
   "cell_type": "markdown",
   "id": "a77090f1",
   "metadata": {},
   "source": [
    "# Find Kth Largest Value In BST :\n",
    "\n",
    "Write a function that takes in a Binary Search Tree (BST) and a positive integer k and returns the kth largest integer contained in the BST.You can assume that there will only be integer values in the BST and that k is less than or equal to the number of nodes in the tree.\n",
    "\n",
    "Also, for the purpose of this question, duplicate integers will be treated as distinct values. In other words, the second largest value in a BST containing values {5, 7, 7} will be 7—not 5.\n",
    "\n",
    "Each BST node has an integer value, a left child node, and a right child node. A node is said to be a valid BST node if and only if it satisfies the BST property: its value is strictly greater than the values of every node to its left; its value is less than or equal to the values of every node to its right; and its children nodes are either valid BST nodes themselves or None / null."
   ]
  },
  {
   "cell_type": "code",
   "execution_count": 3,
   "id": "e8455f5f",
   "metadata": {},
   "outputs": [],
   "source": [
    "#  time  complexity is O(n)\n",
    "#  space complexity is O(n)\n",
    "class BST:\n",
    "    def __init__(self, value, left=None, right=None):\n",
    "        self.value = value\n",
    "        self.left = left\n",
    "        self.right = right\n",
    "\n",
    "\n",
    "def findKthLargestValueInBst(tree, k):\n",
    "    # Write your code here.\n",
    "    sortedLest=[]\n",
    "    recursiveHelper(tree,sortedLest)\n",
    "    return sortedLest[len(sortedLest)- k]\n",
    "\n",
    "def recursiveHelper (tree, sortedLest):\n",
    "    if tree is None :\n",
    "        return \n",
    "    recursiveHelper(tree.left, sortedLest)\n",
    "    sortedLest.append(tree.value)\n",
    "    recursiveHelper(tree.right,sortedLest)"
   ]
  },
  {
   "cell_type": "code",
   "execution_count": 4,
   "id": "7493476e",
   "metadata": {},
   "outputs": [
    {
     "name": "stdout",
     "output_type": "stream",
     "text": [
      "True\n"
     ]
    }
   ],
   "source": [
    "root = BST(15)\n",
    "root.left = BST(5)\n",
    "root.left.left = BST(2)\n",
    "root.left.left.left = BST(1)\n",
    "root.left.left.right = BST(3)\n",
    "root.left.right = BST(5)\n",
    "root.right = BST(20)\n",
    "root.right.left = BST(17)\n",
    "root.right.right = BST(22)\n",
    "k = 3\n",
    "expected = 17\n",
    "actual = findKthLargestValueInBst(root, k)\n",
    "print(actual == expected)"
   ]
  },
  {
   "cell_type": "code",
   "execution_count": null,
   "id": "fde2314a",
   "metadata": {},
   "outputs": [],
   "source": []
  }
 ],
 "metadata": {
  "kernelspec": {
   "display_name": "Python 3 (ipykernel)",
   "language": "python",
   "name": "python3"
  },
  "language_info": {
   "codemirror_mode": {
    "name": "ipython",
    "version": 3
   },
   "file_extension": ".py",
   "mimetype": "text/x-python",
   "name": "python",
   "nbconvert_exporter": "python",
   "pygments_lexer": "ipython3",
   "version": "3.9.7"
  }
 },
 "nbformat": 4,
 "nbformat_minor": 5
}
