{
 "cells": [
  {
   "cell_type": "markdown",
   "id": "d04538b7",
   "metadata": {},
   "source": [
    "# Monotonic Array :\n",
    "\n",
    "Write a function that takes in an array of integers and returns a boolean representing whether the array is monotonic.\n",
    "\n",
    "An array is said to be monotonic if its elements, from left to right, are entirely non-increasing or entirely non-decreasing.\n",
    "\n",
    "Non-increasing elements aren't necessarily exclusively decreasing; they simply don't increase. Similarly, non-decreasing elements aren't necessarily exclusively increasing; they simply don't decrease.\n",
    "  \n",
    "Note that empty arrays and arrays of one element are monotonic."
   ]
  },
  {
   "cell_type": "code",
   "execution_count": 2,
   "id": "d836bcc1",
   "metadata": {},
   "outputs": [
    {
     "name": "stdout",
     "output_type": "stream",
     "text": [
      "True\n",
      "True\n",
      "True\n",
      "True\n",
      "False\n",
      "False\n",
      "False\n"
     ]
    }
   ],
   "source": [
    "#  space complexity is O(n)\n",
    "#  Time complexity is O(1)\n",
    "\n",
    "def isMonotonic(array):\n",
    "    isNI=True\n",
    "    isND=True\n",
    "    for i in range(1,len(array)):\n",
    "        if array[i] < array[i - 1]:\n",
    "            isND = False\n",
    "        elif array[i] > array[i - 1]:\n",
    "            isNI = False\n",
    "    return isNI or isND\n",
    "\n",
    "\n",
    "\n",
    "print(isMonotonic([-1, -5, -10, -1100, -1100, -1101, -1102, -9001]))\n",
    "print(isMonotonic([]))\n",
    "print(isMonotonic([1, 5, 10, 1100, 1101, 1102, 9001]))\n",
    "print(isMonotonic([-1, -5, -10, -1100, -1101, -1102, -9001]))\n",
    "print(isMonotonic([-1, -5, -10, -1100, -900, -1101, -1102, -9001]))\n",
    "print(isMonotonic([1, 2, 0]))\n",
    "print(isMonotonic([1, 1, 2, 3, 4, 5, 5, 5, 6, 7, 8, 7, 9, 10, 11]))"
   ]
  },
  {
   "cell_type": "code",
   "execution_count": null,
   "id": "5529eae2",
   "metadata": {},
   "outputs": [],
   "source": []
  }
 ],
 "metadata": {
  "kernelspec": {
   "display_name": "Python 3 (ipykernel)",
   "language": "python",
   "name": "python3"
  },
  "language_info": {
   "codemirror_mode": {
    "name": "ipython",
    "version": 3
   },
   "file_extension": ".py",
   "mimetype": "text/x-python",
   "name": "python",
   "nbconvert_exporter": "python",
   "pygments_lexer": "ipython3",
   "version": "3.9.7"
  }
 },
 "nbformat": 4,
 "nbformat_minor": 5
}
