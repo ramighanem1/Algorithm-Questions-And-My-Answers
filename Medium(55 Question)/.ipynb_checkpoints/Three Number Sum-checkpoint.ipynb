{
 "cells": [
  {
   "cell_type": "markdown",
   "id": "477a300a",
   "metadata": {},
   "source": [
    "# Three Number Sum : \n",
    "\n",
    "Write a function that takes in a non-empty array of distinct integers and an integer representing a target sum. The function should find all triplets in the array that sum up to the target sum and return a two-dimensional array of all these triplets. The numbers in each triplet should be ordered in ascending order, and the triplets themselves should be ordered in ascending order with respect to the numbers they hold.\n",
    "\n",
    "If no three numbers sum up to the target sum, the function should return an empty array."
   ]
  },
  {
   "cell_type": "code",
   "execution_count": 2,
   "id": "61fe72fc",
   "metadata": {},
   "outputs": [
    {
     "name": "stdout",
     "output_type": "stream",
     "text": [
      "[[-8, 2, 6], [-8, 3, 5], [-6, 1, 5]]\n",
      "[[1, 2, 3]]\n",
      "[]\n",
      "[[-2, 10, 49]]\n",
      "[[-8, 3, 5], [-6, 1, 5], [-1, 0, 1]]\n",
      "[[-8, 2, 6], [-8, 3, 5], [-6, 0, 6], [-6, 1, 5], [-1, 0, 1]]\n",
      "[[-8, 2, 6], [-8, 3, 5], [-6, 0, 6], [-6, 1, 5], [-5, -1, 6], [-5, 0, 5], [-5, 2, 3], [-1, 0, 1]]\n",
      "[[1, 2, 15], [1, 8, 9], [2, 7, 9], [3, 6, 9], [3, 7, 8], [4, 5, 9], [4, 6, 8], [5, 6, 7]]\n",
      "[[8, 9, 15]]\n"
     ]
    }
   ],
   "source": [
    "#  time  complexity is O(n^2) \n",
    "#  space complexity is O(n)\n",
    "\n",
    "def threeNumberSum(array, targetSum):\n",
    "    array.sort()\n",
    "    ResultArray=[]\n",
    "    for i in range(len(array)-2):\n",
    "        L=i+1\n",
    "        R=len(array)-1\n",
    "        while L < R:\n",
    "            cursum = array[i] + array[L] + array[R]\n",
    "            if cursum==targetSum:\n",
    "                ResultArray.append([array[i] , array[L] , array[R]])\n",
    "                L +=1\n",
    "                R -=1\n",
    "            elif cursum < targetSum:\n",
    "                L +=1\n",
    "            elif cursum > targetSum:\n",
    "                R -=1\n",
    "    return ResultArray\n",
    "\n",
    "\n",
    "print(threeNumberSum( [12, 3, 1, 2, -6, 5, -8, 6], 0))\n",
    "print(threeNumberSum([1, 2, 3], 6))\n",
    "print(threeNumberSum([1, 2, 3], 7))\n",
    "print(threeNumberSum([8, 10, -2, 49, 14], 57))\n",
    "print(threeNumberSum([12, 3, 1, 2, -6, 5, 0, -8, -1], 0))\n",
    "print(threeNumberSum([12, 3, 1, 2, -6, 5, 0, -8, -1, 6], 0))\n",
    "print(threeNumberSum([12, 3, 1, 2, -6, 5, 0, -8, -1, 6, -5], 0))\n",
    "print(threeNumberSum([1, 2, 3, 4, 5, 6, 7, 8, 9, 15], 18))\n",
    "print(threeNumberSum([1, 2, 3, 4, 5, 6, 7, 8, 9, 15], 32))\n"
   ]
  },
  {
   "cell_type": "code",
   "execution_count": null,
   "id": "08b39f9b",
   "metadata": {},
   "outputs": [],
   "source": []
  }
 ],
 "metadata": {
  "kernelspec": {
   "display_name": "Python 3 (ipykernel)",
   "language": "python",
   "name": "python3"
  },
  "language_info": {
   "codemirror_mode": {
    "name": "ipython",
    "version": 3
   },
   "file_extension": ".py",
   "mimetype": "text/x-python",
   "name": "python",
   "nbconvert_exporter": "python",
   "pygments_lexer": "ipython3",
   "version": "3.9.7"
  }
 },
 "nbformat": 4,
 "nbformat_minor": 5
}
