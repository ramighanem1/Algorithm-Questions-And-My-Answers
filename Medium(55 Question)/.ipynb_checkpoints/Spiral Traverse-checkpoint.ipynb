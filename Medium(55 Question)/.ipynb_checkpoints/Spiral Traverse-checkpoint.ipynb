{
 "cells": [
  {
   "cell_type": "markdown",
   "id": "95530d0c",
   "metadata": {},
   "source": [
    "# Spiral Traverse : \n",
    "\n",
    "Write a function that takes in an n x m two-dimensional array (that can be square-shaped when n == m) and returns a one-dimensional array of all the array's elements in spiral order.\n",
    "\n",
    "Write a function that takes in an n x m two-dimensional array (that can be square-shaped when n == m) and returns a one-dimensional array of all the array's elements in spiral order."
   ]
  },
  {
   "cell_type": "code",
   "execution_count": 3,
   "id": "989a45ae",
   "metadata": {},
   "outputs": [
    {
     "name": "stdout",
     "output_type": "stream",
     "text": [
      "[1, 2, 3, 4, 5, 6, 7, 8, 9, 10, 11, 12, 13, 14, 15, 16]\n",
      "\n",
      "[1]\n",
      "\n",
      "[1, 2, 3, 4]\n",
      "\n",
      "[19, 32, 33, 34, 25, 8, 11, 9, 6, 7, 10, 27, 28, 29, 30, 17, 20, 1, 18, 16, 15, 14, 13, 12, 26, 5, 24, 23, 22, 21, 2, 31, 36, 35, 4, 3]\n"
     ]
    }
   ],
   "source": [
    "#  space complexity is O(n)\n",
    "#  Time complexity is O(n)\n",
    "\n",
    "def spiralTraverse(array):\n",
    "    Result = []\n",
    "    SR = 0\n",
    "    ER = len(array)-1\n",
    "    SC = 0\n",
    "    EC = len(array[0])-1\n",
    "    \n",
    "    while SR <= ER and SC <=EC:\n",
    "        for C in range(SC,EC+1):\n",
    "            Result.append(array[SR][C])\n",
    "            \n",
    "        for R in range(SR+1,ER + 1):\n",
    "            Result.append(array[R][EC])\n",
    "            \n",
    "        for C in reversed(range(SC,EC)):\n",
    "            if SR == ER:\n",
    "                break\n",
    "            Result.append(array[ER][C])\n",
    "\n",
    "        for R in reversed(range(SR+1,ER)):\n",
    "            if SC == EC:\n",
    "                break\n",
    "            Result.append(array[R][SC])\n",
    "        \n",
    "        SR +=1\n",
    "        ER -=1\n",
    "        SC +=1\n",
    "        EC -=1\n",
    "        \n",
    "    return Result\n",
    "\n",
    "print(spiralTraverse([[1, 2, 3, 4],[12, 13, 14, 5],[11, 16, 15, 6],[10, 9, 8, 7]]))\n",
    "print()\n",
    "print(spiralTraverse([[1]]))\n",
    "print()\n",
    "print(spiralTraverse([[1, 2],[4, 3]]))\n",
    "print()\n",
    "print(spiralTraverse([[19, 32, 33, 34, 25, 8],[16, 15, 14, 13, 12, 11],[18, 31, 36, 35, 26, 9],[1, 2, 3, 4, 5, 6],[20, 21, 22, 23, 24, 7],[17, 30, 29, 28, 27, 10]]))"
   ]
  },
  {
   "cell_type": "code",
   "execution_count": null,
   "id": "7baa7b1b",
   "metadata": {},
   "outputs": [],
   "source": []
  }
 ],
 "metadata": {
  "kernelspec": {
   "display_name": "Python 3 (ipykernel)",
   "language": "python",
   "name": "python3"
  },
  "language_info": {
   "codemirror_mode": {
    "name": "ipython",
    "version": 3
   },
   "file_extension": ".py",
   "mimetype": "text/x-python",
   "name": "python",
   "nbconvert_exporter": "python",
   "pygments_lexer": "ipython3",
   "version": "3.9.7"
  }
 },
 "nbformat": 4,
 "nbformat_minor": 5
}
