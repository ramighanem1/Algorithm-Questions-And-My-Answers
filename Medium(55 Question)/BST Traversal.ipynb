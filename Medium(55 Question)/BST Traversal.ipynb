{
 "cells": [
  {
   "cell_type": "markdown",
   "id": "f6110565",
   "metadata": {},
   "source": [
    "# BST Traversal : \n",
    "\n",
    "Write three functions that take in a Binary Search Tree (BST) and an empty array, traverse the BST, add its nodes' values to the input array, and return that array. The three functions should traverse the BST using the in-order, pre-order, and post-order tree-traversal techniques, respectively.\n",
    "\n",
    "If you're unfamiliar with tree-traversal techniques, we recommend watching the Conceptual Overview section of this question's video explanation before starting to code.\n",
    "  \n",
    "Each BST node has an integer value, a left child node, and a right child node. A node is said to be a valid BST node if and only if it satisfies the BST property: its value is strictly greater than the values of every node to its left; its value is less than or equal to the values of every node to its right; and its children nodes are either valid BST nodes themselves or None / null."
   ]
  },
  {
   "cell_type": "code",
   "execution_count": 10,
   "id": "30fa44ff",
   "metadata": {},
   "outputs": [],
   "source": [
    "class BST:\n",
    "    def __init__(self, value):\n",
    "        self.value = value\n",
    "        self.left = None\n",
    "        self.right = None\n",
    "        \n",
    "        \n",
    "        \n",
    "# O(n) time | O(n) space\n",
    "def inOrderTraverse(tree, array):\n",
    "    # Write your code here.\n",
    "    if tree is not None:\n",
    "        array.extend(inOrderTraverse(tree.left,[]))\n",
    "        array.append(tree.value)\n",
    "        array.extend(inOrderTraverse(tree.right,[]))\n",
    "    return array\n",
    "\n",
    "# O(n) time | O(n) space\n",
    "def preOrderTraverse(tree, array):\n",
    "    # Write your code here.\n",
    "    if tree is not None:\n",
    "        array.append(tree.value)\n",
    "        array.extend(preOrderTraverse(tree.left,[]))\n",
    "        array.extend(preOrderTraverse(tree.right,[]))\n",
    "    return array\n",
    "\n",
    "# O(n) time | O(n) space\n",
    "def postOrderTraverse(tree, array):\n",
    "    # Write your code here.\n",
    "    if tree is not None:\n",
    "        array.extend(postOrderTraverse(tree.left,[]))\n",
    "        array.extend(postOrderTraverse(tree.right,[]))\n",
    "        array.append(tree.value)\n",
    "    return array\n",
    "\n",
    "\n",
    "\n",
    "\n"
   ]
  },
  {
   "cell_type": "code",
   "execution_count": 11,
   "id": "cbb09a32",
   "metadata": {},
   "outputs": [
    {
     "name": "stdout",
     "output_type": "stream",
     "text": [
      "True\n",
      "True\n",
      "True\n"
     ]
    }
   ],
   "source": [
    "root = BST(10)\n",
    "root.left = BST(5)\n",
    "root.left.left = BST(2)\n",
    "root.left.left.left = BST(1)\n",
    "root.left.right = BST(5)\n",
    "root.right = BST(15)\n",
    "root.right.right = BST(22)\n",
    "\n",
    "inOrder = [1, 2, 5, 5, 10, 15, 22]\n",
    "preOrder = [10, 5, 2, 1, 5, 15, 22]\n",
    "postOrder = [1, 2, 5, 5, 22, 15, 10]\n",
    "\n",
    "print(inOrderTraverse(root, [])==inOrder)\n",
    "print(preOrderTraverse(root, [])==preOrder)\n",
    "print(postOrderTraverse(root, [])==postOrder)"
   ]
  },
  {
   "cell_type": "code",
   "execution_count": null,
   "id": "c84d7792",
   "metadata": {},
   "outputs": [],
   "source": []
  }
 ],
 "metadata": {
  "kernelspec": {
   "display_name": "Python 3 (ipykernel)",
   "language": "python",
   "name": "python3"
  },
  "language_info": {
   "codemirror_mode": {
    "name": "ipython",
    "version": 3
   },
   "file_extension": ".py",
   "mimetype": "text/x-python",
   "name": "python",
   "nbconvert_exporter": "python",
   "pygments_lexer": "ipython3",
   "version": "3.9.7"
  }
 },
 "nbformat": 4,
 "nbformat_minor": 5
}
