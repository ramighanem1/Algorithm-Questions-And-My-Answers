{
 "cells": [
  {
   "cell_type": "markdown",
   "id": "161d3747",
   "metadata": {},
   "source": [
    "# Binary Tree Diameter :\n",
    "\n",
    "Write a function that takes in a Binary Tree and returns its diameter. The diameter of a binary tree is defined as the length of its longest path, even if that path doesn't pass through the root of the tree.\n",
    "  \n",
    "A path is a collection of connected nodes in a tree, where no node is connected to more than two other nodes. The length of a path is the number of edges between the path's first node and its last node.\n",
    "\n",
    "Each BinaryTree node has an integer value, a left child node, and a right child node. Children nodes can either be BinaryTree nodes themselves or None / null."
   ]
  },
  {
   "cell_type": "code",
   "execution_count": 1,
   "id": "bbf91f40",
   "metadata": {},
   "outputs": [],
   "source": [
    "# O(n) time | O(h) space\n",
    "# This is an input class. Do not edit.\n",
    "class BinaryTree:\n",
    "    def __init__(self, value, left=None, right=None):\n",
    "        self.value = value\n",
    "        self.left = left\n",
    "        self.right = right\n",
    "\n",
    "\n",
    "def binaryTreeDiameter(tree):\n",
    "    # Write your code here.\n",
    "    if tree is None:\n",
    "        return 0\n",
    "    lheight = height(tree.left)\n",
    "    rheight = height(tree.right)\n",
    "    ldiameter = binaryTreeDiameter(tree.left)\n",
    "    rdiameter = binaryTreeDiameter(tree.right)\n",
    "    return max(lheight + rheight , max(ldiameter, rdiameter))\n",
    "\n",
    "\n",
    "def height(node):\n",
    "    if node is None:\n",
    "        return 0\n",
    "    return 1 + max(height(node.left), height(node.right))"
   ]
  },
  {
   "cell_type": "code",
   "execution_count": 2,
   "id": "b7f39331",
   "metadata": {},
   "outputs": [
    {
     "name": "stdout",
     "output_type": "stream",
     "text": [
      "True\n"
     ]
    }
   ],
   "source": [
    "root =BinaryTree(1)\n",
    "root.left = BinaryTree(3)\n",
    "root.left.left = BinaryTree(7)\n",
    "root.left.left.left = BinaryTree(8)\n",
    "root.left.left.left.left = BinaryTree(9)\n",
    "root.left.right = BinaryTree(4)\n",
    "root.left.right.right = BinaryTree(5)\n",
    "root.left.right.right.right = BinaryTree(6)\n",
    "root.right = BinaryTree(2)\n",
    "expected = 6\n",
    "actual = binaryTreeDiameter(root)\n",
    "print(actual== expected)"
   ]
  },
  {
   "cell_type": "code",
   "execution_count": null,
   "id": "2bb58ea8",
   "metadata": {},
   "outputs": [],
   "source": []
  }
 ],
 "metadata": {
  "kernelspec": {
   "display_name": "Python 3 (ipykernel)",
   "language": "python",
   "name": "python3"
  },
  "language_info": {
   "codemirror_mode": {
    "name": "ipython",
    "version": 3
   },
   "file_extension": ".py",
   "mimetype": "text/x-python",
   "name": "python",
   "nbconvert_exporter": "python",
   "pygments_lexer": "ipython3",
   "version": "3.9.7"
  }
 },
 "nbformat": 4,
 "nbformat_minor": 5
}
