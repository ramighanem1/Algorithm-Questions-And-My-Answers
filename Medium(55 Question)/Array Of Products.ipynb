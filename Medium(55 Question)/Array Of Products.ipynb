{
 "cells": [
  {
   "cell_type": "markdown",
   "id": "60beace6",
   "metadata": {},
   "source": [
    "# Array Of Products : \n",
    "\n",
    "Write a function that takes in a non-empty array of integers and returns an array of the same length, where each element in the output array is equal to the product of every other number in the input array.\n",
    "\n",
    "In other words, the value at output[i] is equal to the product of every number in the input array other than input[i].\n",
    "\n",
    "Note that you're expected to solve this problem without using division."
   ]
  },
  {
   "cell_type": "code",
   "execution_count": 5,
   "id": "1fe06526",
   "metadata": {},
   "outputs": [
    {
     "name": "stdout",
     "output_type": "stream",
     "text": [
      "[8, 40, 10, 20]\n",
      "[384, 48, 64, 192, 96]\n",
      "[672, -1680, 840, -240, 560]\n",
      "[1620, 4860, 7290, 14580, 1620, 2916, 4860, 7290]\n"
     ]
    }
   ],
   "source": [
    "#  time  complexity is O(n) \n",
    "#  space complexity is O(1)\n",
    "\n",
    "\n",
    "def arrayOfProducts(array):\n",
    "    Result=[1 for _ in range(len(array))]\n",
    "    Product = 1\n",
    "    for i in range(len(array)):\n",
    "        Result[i]=Product\n",
    "        Product *=array[i]\n",
    "        \n",
    "    Product = 1 \n",
    "    for i in reversed(range(len(array))):\n",
    "        Result[i] *= Product\n",
    "        Product *=array[i]\n",
    "        \n",
    "    return Result\n",
    "\n",
    "print(arrayOfProducts([5, 1, 4, 2]))\n",
    "print(arrayOfProducts([1, 8, 6, 2, 4]))\n",
    "print(arrayOfProducts([-5, 2, -4, 14, -6]))\n",
    "print(arrayOfProducts([9, 3, 2, 1, 9, 5, 3, 2]))"
   ]
  },
  {
   "cell_type": "code",
   "execution_count": null,
   "id": "fa5deead",
   "metadata": {},
   "outputs": [],
   "source": []
  }
 ],
 "metadata": {
  "kernelspec": {
   "display_name": "Python 3 (ipykernel)",
   "language": "python",
   "name": "python3"
  },
  "language_info": {
   "codemirror_mode": {
    "name": "ipython",
    "version": 3
   },
   "file_extension": ".py",
   "mimetype": "text/x-python",
   "name": "python",
   "nbconvert_exporter": "python",
   "pygments_lexer": "ipython3",
   "version": "3.9.7"
  }
 },
 "nbformat": 4,
 "nbformat_minor": 5
}
