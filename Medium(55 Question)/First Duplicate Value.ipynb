{
 "cells": [
  {
   "cell_type": "markdown",
   "id": "01f499c6",
   "metadata": {},
   "source": [
    "# First Duplicate Value : \n",
    "\n",
    "Given an array of integers between 1 and n, inclusive, where n is the length of the array, write a function that returns the first integer that appears more than once (when the array is read from left to right).\n",
    "  \n",
    "In other words, out of all the integers that might occur more than once in the input array, your function should return the one whose first duplicate value has the minimum index.\n",
    "\n",
    "If no integer appears more than once, your function should return -1 .\n",
    "\n",
    "Note that you're allowed to mutate the input array."
   ]
  },
  {
   "cell_type": "code",
   "execution_count": 2,
   "id": "5aa0c4cc",
   "metadata": {},
   "outputs": [
    {
     "name": "stdout",
     "output_type": "stream",
     "text": [
      "2\n",
      "3\n",
      "1\n",
      "3\n",
      "-1\n",
      "1\n"
     ]
    }
   ],
   "source": [
    "#  time  complexity is O(n) \n",
    "#  space complexity is O(n)\n",
    "\n",
    "def firstDuplicateValue(array):\n",
    "    seen=set()\n",
    "    for value in array:\n",
    "        if value in seen:\n",
    "            return value\n",
    "        seen.add(value)\n",
    "    return -1\n",
    "\n",
    "\n",
    "print(firstDuplicateValue([2, 1, 5, 2, 3, 3, 4]))\n",
    "print(firstDuplicateValue([2, 1, 5, 3, 3, 2, 4]))\n",
    "print(firstDuplicateValue([1, 1, 2, 3, 3, 2, 2]))\n",
    "print(firstDuplicateValue([3, 1, 3, 1, 1, 4, 4]))\n",
    "print(firstDuplicateValue([]))\n",
    "print(firstDuplicateValue([1, 1]))"
   ]
  },
  {
   "cell_type": "code",
   "execution_count": null,
   "id": "e9006008",
   "metadata": {},
   "outputs": [],
   "source": []
  }
 ],
 "metadata": {
  "kernelspec": {
   "display_name": "Python 3 (ipykernel)",
   "language": "python",
   "name": "python3"
  },
  "language_info": {
   "codemirror_mode": {
    "name": "ipython",
    "version": 3
   },
   "file_extension": ".py",
   "mimetype": "text/x-python",
   "name": "python",
   "nbconvert_exporter": "python",
   "pygments_lexer": "ipython3",
   "version": "3.9.7"
  }
 },
 "nbformat": 4,
 "nbformat_minor": 5
}
