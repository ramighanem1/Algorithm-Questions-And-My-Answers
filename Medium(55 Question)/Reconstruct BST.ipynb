{
 "cells": [
  {
   "cell_type": "markdown",
   "id": "485d37bb",
   "metadata": {},
   "source": [
    "# Reconstruct BST :\n",
    "\n",
    "The pre-order traversal of a Binary Tree is a traversal technique that starts at the tree's root node and visits nodes in the following order:\n",
    "\n",
    " 1) Current node\n",
    " 2) Left subtree\n",
    " 3) Right subtree\n",
    " \n",
    "\n",
    "Given a non-empty array of integers representing the pre-order traversal of a Binary Search Tree (BST), write a function that creates the relevant BST and returns its root node.\n",
    "\n",
    "The input array will contain the values of BST nodes in the order in which these nodes would be visited with a pre-order traversal.\n",
    "  \n",
    "Each BST node has an integer value, a left child node, and a right child node. A node is said to be a valid BST node if and only if it satisfies the BST property: its value is strictly greater than the values of every node to its left; its value is less than or equal to the values of every node to its right; and its children nodes are either valid BST nodes themselves or None / null.\n"
   ]
  },
  {
   "cell_type": "code",
   "execution_count": 3,
   "id": "9fc9374a",
   "metadata": {},
   "outputs": [],
   "source": [
    "#  time  complexity is O(n^2) \n",
    "#  space complexity is O(n)\n",
    "class BST:\n",
    "    def __init__(self, value, left=None, right=None):\n",
    "        self.value = value\n",
    "        self.left = left\n",
    "        self.right = right\n",
    "\n",
    "\n",
    "def reconstructBst(preOrderTraversalValues):\n",
    "    # Write your code here.\n",
    "    if len(preOrderTraversalValues)==0:\n",
    "        return None\n",
    "    CurrentValue = preOrderTraversalValues[0]\n",
    "    rSubTreeRootIndex=len(preOrderTraversalValues)\n",
    "    \n",
    "    for index in range(1,len(preOrderTraversalValues)):\n",
    "        value = preOrderTraversalValues[index]\n",
    "        if value >=CurrentValue:\n",
    "            rSubTreeRootIndex=index\n",
    "            break\n",
    "            \n",
    "    leftSubTree =reconstructBst(preOrderTraversalValues[1:rSubTreeRootIndex])\n",
    "    rightSubTree =reconstructBst(preOrderTraversalValues[rSubTreeRootIndex:])\n",
    "    \n",
    "    return BST(CurrentValue,leftSubTree,rightSubTree)"
   ]
  },
  {
   "cell_type": "code",
   "execution_count": 4,
   "id": "70fe5d13",
   "metadata": {},
   "outputs": [
    {
     "name": "stdout",
     "output_type": "stream",
     "text": [
      "True\n"
     ]
    }
   ],
   "source": [
    "def getDfsOrder(node, values):\n",
    "    if node is None:\n",
    "        return\n",
    "    values.append(node.value)\n",
    "    getDfsOrder(node.left, values)\n",
    "    getDfsOrder(node.right, values)\n",
    "    return values\n",
    "\n",
    "\n",
    "preOrderTraversalValues = [10, 4, 2, 1, 3, 17, 19, 18]\n",
    "tree = BST(10)\n",
    "tree.left = BST(4)\n",
    "tree.left.left = BST(2)\n",
    "tree.left.left.left = BST(1)\n",
    "tree.left.right = BST(3)\n",
    "tree.right = BST(17)\n",
    "tree.right.right = BST(19)\n",
    "tree.right.right.left = BST(18)\n",
    "expected = getDfsOrder(tree, [])\n",
    "actual = reconstructBst(preOrderTraversalValues)\n",
    "actualDfsOrder = getDfsOrder(actual, [])\n",
    "print(actualDfsOrder == expected)"
   ]
  },
  {
   "cell_type": "code",
   "execution_count": null,
   "id": "b704e725",
   "metadata": {},
   "outputs": [],
   "source": []
  }
 ],
 "metadata": {
  "kernelspec": {
   "display_name": "Python 3 (ipykernel)",
   "language": "python",
   "name": "python3"
  },
  "language_info": {
   "codemirror_mode": {
    "name": "ipython",
    "version": 3
   },
   "file_extension": ".py",
   "mimetype": "text/x-python",
   "name": "python",
   "nbconvert_exporter": "python",
   "pygments_lexer": "ipython3",
   "version": "3.9.7"
  }
 },
 "nbformat": 4,
 "nbformat_minor": 5
}
