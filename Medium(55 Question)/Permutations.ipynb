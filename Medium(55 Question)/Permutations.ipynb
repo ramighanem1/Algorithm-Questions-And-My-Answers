{
 "cells": [
  {
   "cell_type": "markdown",
   "id": "967b83af",
   "metadata": {},
   "source": [
    "# Permutations :\n",
    "Write a function that takes in an array of unique integers and returns an array of all permutations of those integers in no particular order.\n",
    "\n",
    "If the input array is empty, the function should return an empty array."
   ]
  },
  {
   "cell_type": "code",
   "execution_count": 1,
   "id": "2819158a",
   "metadata": {},
   "outputs": [],
   "source": [
    "def getPermutations(array):\n",
    "    # Write your code here.\n",
    "    ResultArray=[]\n",
    "    RecursionHelper(0,array,ResultArray)\n",
    "    return ResultArray\n",
    "\n",
    "def RecursionHelper(i,array,ResultArray):\n",
    "    if i== len(array) - 1 : \n",
    "        ResultArray.append(array[:])\n",
    "    else:\n",
    "        for j in range(i,len(array)):\n",
    "            array[i],array[j]=array[j],array[i]\n",
    "            RecursionHelper(i+1,array,ResultArray)\n",
    "            array[i],array[j]=array[j],array[i]"
   ]
  },
  {
   "cell_type": "code",
   "execution_count": 2,
   "id": "cad9b692",
   "metadata": {},
   "outputs": [
    {
     "name": "stdout",
     "output_type": "stream",
     "text": [
      "True\n",
      "True\n",
      "True\n",
      "True\n",
      "True\n",
      "True\n",
      "True\n"
     ]
    }
   ],
   "source": [
    "perms = getPermutations([1, 2, 3])\n",
    "print(len(perms) == 6)\n",
    "print([1, 2, 3] in perms)\n",
    "print([1, 3, 2] in perms)\n",
    "print([2, 1, 3] in perms)\n",
    "print([2, 3, 1] in perms)\n",
    "print([3, 1, 2] in perms)\n",
    "print([3, 2, 1] in perms)"
   ]
  },
  {
   "cell_type": "code",
   "execution_count": null,
   "id": "d55700be",
   "metadata": {},
   "outputs": [],
   "source": []
  }
 ],
 "metadata": {
  "kernelspec": {
   "display_name": "Python 3 (ipykernel)",
   "language": "python",
   "name": "python3"
  },
  "language_info": {
   "codemirror_mode": {
    "name": "ipython",
    "version": 3
   },
   "file_extension": ".py",
   "mimetype": "text/x-python",
   "name": "python",
   "nbconvert_exporter": "python",
   "pygments_lexer": "ipython3",
   "version": "3.9.7"
  }
 },
 "nbformat": 4,
 "nbformat_minor": 5
}
