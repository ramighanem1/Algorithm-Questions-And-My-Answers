{
 "cells": [
  {
   "cell_type": "markdown",
   "id": "88a05f14",
   "metadata": {},
   "source": [
    "# Find Successor : \n",
    "\n",
    "Write a function that takes in a Binary Tree (where nodes have an additional pointer to their parent node) as well as a node contained in that tree and returns the given node's successor.\n",
    "  \n",
    "A node's successor is the next node to be visited (immediately after the given node) when traversing its tree using the in-order tree-traversal technique. A node has no successor if it's the last node to be visited in the in-order traversal.\n",
    "\n",
    "If a node has no successor, your function should return None / null.\n",
    "\n",
    "Each BinaryTree node has an integer value, a parent node, a left child node, and a right child node. Children nodes can either be BinaryTree nodes themselves or None / null."
   ]
  },
  {
   "cell_type": "code",
   "execution_count": 3,
   "id": "255a5060",
   "metadata": {},
   "outputs": [],
   "source": [
    "# This is an input class. Do not edit.\n",
    "class BinaryTree:\n",
    "    def __init__(self, value, left=None, right=None, parent=None):\n",
    "        self.value = value\n",
    "        self.left = left\n",
    "        self.right = right\n",
    "        self.parent = parent\n",
    "\n",
    "# O(n) time | O(n) space\n",
    "def findSuccessor(tree,node):\n",
    "    # Write your code here.\n",
    "    inOrderList = RecursiveFun(tree)\n",
    "    \n",
    "    for index,Current in enumerate(inOrderList):\n",
    "        if index == len(inOrderList)-1:\n",
    "            return None\n",
    "        if Current == node:\n",
    "            return inOrderList[index+1]\n",
    "\n",
    "\n",
    "def RecursiveFun(node,Order=[]):\n",
    "    if node is None:\n",
    "        return Order\n",
    "    \n",
    "    RecursiveFun(node.left,Order)\n",
    "    Order.append(node)\n",
    "    RecursiveFun(node.right,Order)\n",
    "    \n",
    "    return Order"
   ]
  },
  {
   "cell_type": "code",
   "execution_count": 4,
   "id": "c1aa9b7f",
   "metadata": {},
   "outputs": [
    {
     "name": "stdout",
     "output_type": "stream",
     "text": [
      "True\n"
     ]
    }
   ],
   "source": [
    "root = BinaryTree(1)\n",
    "root.left = BinaryTree(2)\n",
    "root.left.parent = root\n",
    "root.right = BinaryTree(3)\n",
    "root.right.parent = root\n",
    "root.left.left = BinaryTree(4)\n",
    "root.left.left.parent = root.left\n",
    "root.left.right = BinaryTree(5)\n",
    "root.left.right.parent = root.left\n",
    "root.left.left.left = BinaryTree(6)\n",
    "root.left.left.left.parent = root.left.left\n",
    "node = root.left.right\n",
    "expected = root\n",
    "actual = findSuccessor(root, node)\n",
    "print(actual == expected)"
   ]
  },
  {
   "cell_type": "code",
   "execution_count": null,
   "id": "712d628b",
   "metadata": {},
   "outputs": [],
   "source": []
  }
 ],
 "metadata": {
  "kernelspec": {
   "display_name": "Python 3 (ipykernel)",
   "language": "python",
   "name": "python3"
  },
  "language_info": {
   "codemirror_mode": {
    "name": "ipython",
    "version": 3
   },
   "file_extension": ".py",
   "mimetype": "text/x-python",
   "name": "python",
   "nbconvert_exporter": "python",
   "pygments_lexer": "ipython3",
   "version": "3.9.7"
  }
 },
 "nbformat": 4,
 "nbformat_minor": 5
}
