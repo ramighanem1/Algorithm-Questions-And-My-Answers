{
 "cells": [
  {
   "cell_type": "markdown",
   "id": "6de2dbbc",
   "metadata": {},
   "source": [
    "# Powerset : \n",
    "\n",
    "Write a function that takes in an array of unique integers and returns its powerset.\n",
    "\n",
    "The powerset P(X) of a set X is the set of all subsets of X. For example, the powerset of [1,2] is [[], [1], [2], [1,2]].\n",
    "    \n",
    "Note that the sets in the powerset do not need to be in any particular order."
   ]
  },
  {
   "cell_type": "code",
   "execution_count": 7,
   "id": "79f2c6ae",
   "metadata": {},
   "outputs": [],
   "source": [
    "#  time  complexity is O(n*2^n) \n",
    "#  space complexity is O(n*2^n)\n",
    "def powerset(array):\n",
    "    # Write your code here.\n",
    "    subsets = [[]]\n",
    "    for element in array:\n",
    "        for i in range(len(subsets)):\n",
    "            currentSubset = subsets[i]\n",
    "            subsets.append(currentSubset + [element])\n",
    "    return subsets"
   ]
  },
  {
   "cell_type": "code",
   "execution_count": 8,
   "id": "e6a77755",
   "metadata": {},
   "outputs": [
    {
     "name": "stdout",
     "output_type": "stream",
     "text": [
      "True\n",
      "True\n",
      "True\n",
      "True\n",
      "True\n",
      "True\n",
      "True\n",
      "True\n",
      "True\n"
     ]
    }
   ],
   "source": [
    "output = list(map(lambda x: set(x),powerset([1, 2, 3])))\n",
    "print(len(output) == 8)\n",
    "print(set([]) in output)\n",
    "print(set([1]) in output)\n",
    "print(set([2]) in output)\n",
    "print(set([1, 2]) in output)\n",
    "print(set([3]) in output)\n",
    "print(set([1, 3]) in output)\n",
    "print(set([2, 3]) in output)\n",
    "print(set([1, 2, 3]) in output)"
   ]
  },
  {
   "cell_type": "code",
   "execution_count": null,
   "id": "db1e3e1a",
   "metadata": {},
   "outputs": [],
   "source": []
  }
 ],
 "metadata": {
  "kernelspec": {
   "display_name": "Python 3 (ipykernel)",
   "language": "python",
   "name": "python3"
  },
  "language_info": {
   "codemirror_mode": {
    "name": "ipython",
    "version": 3
   },
   "file_extension": ".py",
   "mimetype": "text/x-python",
   "name": "python",
   "nbconvert_exporter": "python",
   "pygments_lexer": "ipython3",
   "version": "3.9.7"
  }
 },
 "nbformat": 4,
 "nbformat_minor": 5
}
