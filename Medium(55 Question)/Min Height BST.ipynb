{
 "cells": [
  {
   "cell_type": "markdown",
   "id": "7d453b40",
   "metadata": {},
   "source": [
    "# Min Height BST : \n",
    "\n",
    "Write a function that takes in a non-empty sorted array of distinct integers, constructs a BST from the integers, and returns the root of the BST.\n",
    " \n",
    "The function should minimize the height of the BST.\n",
    "  \n",
    "You've been provided with a BST class that you'll have to use to construct the BST\n",
    "  \n",
    "Each BST node has an integer value, a left child node, and a right child node. A node is said to be a valid BST node if and only if it satisfies the BST property: its value is strictly greater than the values of every node to its left; its value is less than or equal to the values of every node to its right; and its children nodes are either valid BST nodes themselves or None / null.\n",
    "\n",
    "A BST is valid if and only if all of its nodes are valid BST nodes.\n",
    "\n",
    "Note that the BST class already has an insert method which you can use if you want."
   ]
  },
  {
   "cell_type": "code",
   "execution_count": 5,
   "id": "513ced27",
   "metadata": {},
   "outputs": [],
   "source": [
    "#  time  complexity is O(nlog(n)) \n",
    "#  space complexity is O(n)\n",
    "def minHeightBst(array):\n",
    "    return CreatTree(array,None,0,len(array)-1)\n",
    "\n",
    "def CreatTree(array,tree,sIndex,eIndex):\n",
    "    if eIndex < sIndex:\n",
    "        return \n",
    "    mIndex=(sIndex+eIndex) // 2\n",
    "    if tree is None:\n",
    "        tree=BST(array[mIndex])\n",
    "    else:\n",
    "        tree.insert(array[mIndex])\n",
    "    CreatTree(array,tree,sIndex,mIndex-1)\n",
    "    CreatTree(array,tree,mIndex+1,eIndex)\n",
    "    return tree\n",
    "\n",
    "\n",
    "class BST:\n",
    "    def __init__(self, value):\n",
    "        self.value = value\n",
    "        self.left = None\n",
    "        self.right = None\n",
    "\n",
    "    def insert(self, value):\n",
    "        if value < self.value:\n",
    "            if self.left is None:\n",
    "                self.left = BST(value)\n",
    "            else:\n",
    "                self.left.insert(value)\n",
    "        else:\n",
    "            if self.right is None:\n",
    "                self.right = BST(value)\n",
    "            else:\n",
    "                self.right.insert(value)"
   ]
  },
  {
   "cell_type": "code",
   "execution_count": 6,
   "id": "11bbee39",
   "metadata": {},
   "outputs": [
    {
     "name": "stdout",
     "output_type": "stream",
     "text": [
      "True\n",
      "True\n",
      "True\n"
     ]
    }
   ],
   "source": [
    "\n",
    "# Test\n",
    "def inOrderTraverse(tree, array):\n",
    "    if tree is not None:\n",
    "        inOrderTraverse(tree.left, array)\n",
    "        array.append(tree.value)\n",
    "        inOrderTraverse(tree.right, array)\n",
    "    return array\n",
    "\n",
    "\n",
    "def validateBst(tree):\n",
    "    return validateBstHelper(tree, float(\"-inf\"), float(\"inf\"))\n",
    "\n",
    "\n",
    "def validateBstHelper(tree, minValue, maxValue):\n",
    "    if tree is None:\n",
    "        return True\n",
    "    if tree.value < minValue or tree.value >= maxValue:\n",
    "        return False\n",
    "    leftIsValid = validateBstHelper(tree.left, minValue, tree.value)\n",
    "    return leftIsValid and validateBstHelper(tree.right, tree.value, maxValue)\n",
    "\n",
    "\n",
    "def getTreeHeight(tree, height=0):\n",
    "    if tree is None:\n",
    "        return height\n",
    "    leftTreeHeight = getTreeHeight(tree.left, height + 1)\n",
    "    rightTreeHeight = getTreeHeight(tree.right, height + 1)\n",
    "    return max(leftTreeHeight, rightTreeHeight)\n",
    "\n",
    "\n",
    "array = [1, 2, 5, 7, 10, 13, 14, 15, 22]\n",
    "tree = minHeightBst(array)\n",
    "print(validateBst(tree))\n",
    "print(getTreeHeight(tree)== 4)\n",
    "inOrder = inOrderTraverse(tree, [])\n",
    "print(inOrder== [1, 2, 5, 7, 10, 13, 14, 15, 22])"
   ]
  },
  {
   "cell_type": "code",
   "execution_count": null,
   "id": "c6a4e91d",
   "metadata": {},
   "outputs": [],
   "source": []
  }
 ],
 "metadata": {
  "kernelspec": {
   "display_name": "Python 3 (ipykernel)",
   "language": "python",
   "name": "python3"
  },
  "language_info": {
   "codemirror_mode": {
    "name": "ipython",
    "version": 3
   },
   "file_extension": ".py",
   "mimetype": "text/x-python",
   "name": "python",
   "nbconvert_exporter": "python",
   "pygments_lexer": "ipython3",
   "version": "3.9.7"
  }
 },
 "nbformat": 4,
 "nbformat_minor": 5
}
