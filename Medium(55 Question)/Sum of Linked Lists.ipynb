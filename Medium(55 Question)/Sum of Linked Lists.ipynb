{
 "cells": [
  {
   "cell_type": "markdown",
   "id": "6d190dfc",
   "metadata": {},
   "source": [
    "# Sum of Linked Lists : \n",
    "\n",
    "You're given two Linked Lists of potentially unequal length. Each Linked List represents a non-negative integer, where each node in the Linked List is a digit of that integer, and the first node in each Linked List always represents the least significant digit of the integer. Write a function that returns the head of a new Linked List that represents the sum of the integers represented by the two input Linked Lists.\n",
    "  \n",
    "Each LinkedList node has an integer value as well as a next node pointing to the next node in the list or to None / null if it's the tail of the list. The value of each LinkedList node is always in the range of 0 - 9.\n",
    "\n",
    "Note: your function must create and return a new Linked List, and you're not allowed to modify either of the input Linked Lists."
   ]
  },
  {
   "cell_type": "code",
   "execution_count": 12,
   "id": "77894d2a",
   "metadata": {},
   "outputs": [],
   "source": [
    "# This is an input class. Do not edit.\n",
    "class LinkedList:\n",
    "    def __init__(self, value):\n",
    "        self.value = value\n",
    "        self.next = None\n",
    "        \n",
    "        \n",
    "\n",
    "# O(max(n,m)) time , O(max(n,m)) space  where  n = length of linkedListOne m = length of linkedListOne\n",
    "def sumOfLinkedLists(linkedListOne, linkedListTwo):\n",
    "    # Write your code here.\n",
    "    temp=0\n",
    "    tempSum=0\n",
    "    Result = LinkedList(0)\n",
    "    CurentNode=Result\n",
    "    while linkedListOne is not None or linkedListTwo is not None or temp!=0 :\n",
    "        valueOne=linkedListOne.value if linkedListOne is not None else 0\n",
    "        valueTwo=linkedListTwo.value if linkedListTwo is not None else 0\n",
    "        \n",
    "        tempSum = valueOne + valueTwo + temp\n",
    "        NewValie = tempSum % 10\n",
    "        NewNode = LinkedList(NewValie)\n",
    "        CurentNode.next=NewNode\n",
    "        CurentNode=NewNode\n",
    "        \n",
    "        temp = tempSum // 10\n",
    "        linkedListOne=linkedListOne.next if linkedListOne is not None else None\n",
    "        linkedListTwo=linkedListTwo.next if linkedListTwo is not None else None\n",
    "\n",
    "    return Result.next\n",
    "\n",
    "\n"
   ]
  },
  {
   "cell_type": "code",
   "execution_count": 13,
   "id": "c08764bb",
   "metadata": {},
   "outputs": [
    {
     "name": "stdout",
     "output_type": "stream",
     "text": [
      "True\n"
     ]
    }
   ],
   "source": [
    "class LinkedList(LinkedList):\n",
    "    def addMany(self, values):\n",
    "        current = self\n",
    "        while current.next is not None:\n",
    "            current = current.next\n",
    "        for value in values:\n",
    "            current.next = LinkedList(value)\n",
    "            current = current.next\n",
    "        return self\n",
    "\n",
    "\n",
    "def getNodesInArray(output):\n",
    "    nodes = []\n",
    "    current = output\n",
    "    while current is not None:\n",
    "        nodes.append(current.value)\n",
    "        current = current.next\n",
    "    return nodes\n",
    "\n",
    "\n",
    "\n",
    "ll1 = LinkedList(2).addMany([4, 7, 1])\n",
    "ll2 = LinkedList(9).addMany([4, 5])\n",
    "expected = LinkedList(1).addMany([9, 2, 2])\n",
    "actual = sumOfLinkedLists(ll1, ll2)\n",
    "print(getNodesInArray(actual) == getNodesInArray(expected))"
   ]
  },
  {
   "cell_type": "code",
   "execution_count": null,
   "id": "317f2d9a",
   "metadata": {},
   "outputs": [],
   "source": []
  }
 ],
 "metadata": {
  "kernelspec": {
   "display_name": "Python 3 (ipykernel)",
   "language": "python",
   "name": "python3"
  },
  "language_info": {
   "codemirror_mode": {
    "name": "ipython",
    "version": 3
   },
   "file_extension": ".py",
   "mimetype": "text/x-python",
   "name": "python",
   "nbconvert_exporter": "python",
   "pygments_lexer": "ipython3",
   "version": "3.9.7"
  }
 },
 "nbformat": 4,
 "nbformat_minor": 5
}
