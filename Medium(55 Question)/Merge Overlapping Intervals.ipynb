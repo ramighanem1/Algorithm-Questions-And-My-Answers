{
 "cells": [
  {
   "cell_type": "markdown",
   "id": "a9db7c11",
   "metadata": {},
   "source": [
    "# Merge Overlapping Intervals : \n",
    "\n",
    "Write a function that takes in a non-empty array of arbitrary intervals, merges any overlapping intervals, and returns the new intervals in no particular order.\n",
    "\n",
    "Each interval interval is an array of two integers, with interval[0] as the start of the interval and interval[1] as the end of the interval.\n",
    "\n",
    "Note that back-to-back intervals aren't considered to be overlapping. For example, [1, 5] and [6, 7] aren't overlapping;\n",
    "however, [1, 6] and [6, 7]are indeed overlapping.\n",
    " \n",
    "Also note that the start of any particular interval will always be less than or equal to the end of that interval.\n"
   ]
  },
  {
   "cell_type": "code",
   "execution_count": 3,
   "id": "9712e28e",
   "metadata": {},
   "outputs": [
    {
     "name": "stdout",
     "output_type": "stream",
     "text": [
      "[[1, 2], [3, 8], [9, 10]]\n",
      "[[1, 8], [9, 10]]\n",
      "[[-50, 20], [70, 95]]\n"
     ]
    }
   ],
   "source": [
    "#  time  complexity is O(nlog(n)) \n",
    "#  space complexity is O(1)\n",
    "\n",
    "def mergeOverlappingIntervals(intervals):\n",
    "    intervals = sorted(intervals,key=lambda x : x[0])\n",
    "    index2=1\n",
    "    lastindex = len(intervals)-1\n",
    "    while(index2 <= lastindex):\n",
    "        index1=index2-1\n",
    "        if intervals[index1][1] >= intervals[index2][0]:\n",
    "            intervals[index2][1]=max(intervals[index1][1],intervals[index2][1])\n",
    "            intervals[index2][0]=intervals[index1][0]\n",
    "            del intervals[index1]\n",
    "            lastindex -= 1\n",
    "        else:\n",
    "            index2+=1\n",
    "            \n",
    "    return intervals\n",
    "\n",
    "\n",
    "print(mergeOverlappingIntervals([[1, 2],[3, 5],[4, 7],[6, 8],[9, 10]]))\n",
    "print(mergeOverlappingIntervals([[1, 3],[2, 8],[9, 10]]))\n",
    "print(mergeOverlappingIntervals([[89, 90],[-10, 20],[-50, 0],[70, 90],[90, 91],[90, 95]]))"
   ]
  },
  {
   "cell_type": "code",
   "execution_count": null,
   "id": "d3ca7dc2",
   "metadata": {},
   "outputs": [],
   "source": []
  }
 ],
 "metadata": {
  "kernelspec": {
   "display_name": "Python 3 (ipykernel)",
   "language": "python",
   "name": "python3"
  },
  "language_info": {
   "codemirror_mode": {
    "name": "ipython",
    "version": 3
   },
   "file_extension": ".py",
   "mimetype": "text/x-python",
   "name": "python",
   "nbconvert_exporter": "python",
   "pygments_lexer": "ipython3",
   "version": "3.9.7"
  }
 },
 "nbformat": 4,
 "nbformat_minor": 5
}
