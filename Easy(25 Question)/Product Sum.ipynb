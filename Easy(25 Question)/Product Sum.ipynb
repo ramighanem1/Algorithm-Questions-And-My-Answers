{
 "cells": [
  {
   "cell_type": "markdown",
   "id": "05377f43",
   "metadata": {},
   "source": [
    "# Product Sum : \n",
    "\n",
    "Write a function that takes in a \"special\" array and returns its product sum.\n",
    "\n",
    "A \"special\" array is a non-empty array that contains either integers or other \"special\" arrays. The product sum of a \"special\" array is the sum of its elements, where \"special\" arrays inside it are summed themselves and then multiplied by their level of depth.\n",
    " \n",
    "The depth of a \"special\" array is how far nested it is. For instance, the depth of [] is 1; the depth of the inner array in [[]] is 2; the depth of the innermost array in [[[]]] is 3.\n",
    " \n",
    "Therefore, the product sum of [x, y] is x + y; the product sum of [x, [y, z]] is x + 2 * (y + z); \n",
    "the product sum of [x, [y, [z]]] is x + 2 * (y + 3z)."
   ]
  },
  {
   "cell_type": "code",
   "execution_count": 10,
   "id": "4f8b9f25",
   "metadata": {},
   "outputs": [
    {
     "name": "stdout",
     "output_type": "stream",
     "text": [
      "12\n",
      "15\n",
      "18\n",
      "27\n",
      "600\n",
      "1351\n"
     ]
    }
   ],
   "source": [
    "#  time  complexity is O(n) \n",
    "#  space complexity is O(d) d=depth\n",
    "\n",
    "#example :  array = [5, 2, [7, -1], 3, [6, [-13, 8], 4]] calculated as: 5 + 2 + 2 * (7 - 1) + 3 + 2 * (6 + 3 * (-13 + 8) + 4)\n",
    "\n",
    "def SumOfArray(array,level):\n",
    "    Total=0\n",
    "    for i in array:\n",
    "        if isinstance(i, list):\n",
    "            Total= Total + level * SumOfArray(i,level+1)\n",
    "        else:\n",
    "            Total= Total + level * i\n",
    "    return Total\n",
    "\n",
    "def productSum(array):\n",
    "    return SumOfArray(array,1)\n",
    "\n",
    "print (productSum([5, 2, [7, -1], 3, [6, [-13, 8], 4]]))\n",
    "print (productSum([1, 2, 3, 4, 5]))\n",
    "print (productSum([1, 2, [3], 4, 5]))\n",
    "print (productSum([[1, 2],3,[4, 5]]))\n",
    "print (productSum([[[[[5]]]]]))\n",
    "print (productSum([9, [2, -3, 4], 1, [1, 1, [1, 1, 1]], [[[[3, 4, 1]]], 8], [1, 2, 3, 4, 5, [6, 7], -7], [1, [2, 3, [4, 5]], [6, 0, [7, 0, -8]], -7], [1, -3, 2, [1, -3, 2, [1, -3, 2], [1, -3, 2, [1, -3, 2]], [1, -3, 2]]], -3]))"
   ]
  },
  {
   "cell_type": "code",
   "execution_count": null,
   "id": "da13ebca",
   "metadata": {},
   "outputs": [],
   "source": []
  }
 ],
 "metadata": {
  "kernelspec": {
   "display_name": "Python 3 (ipykernel)",
   "language": "python",
   "name": "python3"
  },
  "language_info": {
   "codemirror_mode": {
    "name": "ipython",
    "version": 3
   },
   "file_extension": ".py",
   "mimetype": "text/x-python",
   "name": "python",
   "nbconvert_exporter": "python",
   "pygments_lexer": "ipython3",
   "version": "3.9.7"
  }
 },
 "nbformat": 4,
 "nbformat_minor": 5
}
