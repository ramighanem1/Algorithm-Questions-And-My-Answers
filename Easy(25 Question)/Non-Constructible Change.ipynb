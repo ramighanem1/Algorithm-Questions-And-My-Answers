{
 "cells": [
  {
   "cell_type": "markdown",
   "id": "f6601473",
   "metadata": {},
   "source": [
    "# Non-Constructible Change : \n",
    "\n",
    "Given an array of positive integers representing the values of coins in your possession, write a function that returns the minimum amount of change (the minimum sum of money) that you cannot create. The given coins can have any positive integer value and aren't necessarily unique (i.e., you can have multiple coins of the same value).\n",
    "\n",
    "For example, if you're given coins = [1, 2, 5] , the minimum amount of change that you can't create is 4 . If you're given no coins, the minimum amount of change that you can't create is 1 ."
   ]
  },
  {
   "cell_type": "code",
   "execution_count": 2,
   "id": "6665504d",
   "metadata": {},
   "outputs": [
    {
     "name": "stdout",
     "output_type": "stream",
     "text": [
      "20\n",
      "6\n",
      "55\n",
      "3\n",
      "1\n",
      "1\n",
      "32\n",
      "19\n",
      "3\n",
      "1\n",
      "2\n",
      "87\n",
      "29\n"
     ]
    }
   ],
   "source": [
    "#  time  complexity is O( n*logn ) \n",
    "#  space complexity is O(1)\n",
    "def nonConstructibleChange(coins):\n",
    "    Result=0\n",
    "    coins.sort()\n",
    "    for coin in coins:\n",
    "        if coin > Result + 1 :\n",
    "            return Result + 1\n",
    "        Result += coin\n",
    "    return Result + 1\n",
    "\n",
    "\n",
    "print(nonConstructibleChange([5, 7, 1, 1, 2, 3, 22]))\n",
    "print(nonConstructibleChange([1, 1, 1, 1, 1]))\n",
    "print(nonConstructibleChange([1, 5, 1, 1, 1, 10, 15, 20, 100]))\n",
    "print(nonConstructibleChange([6, 4, 5, 1, 1, 8, 9]))\n",
    "print(nonConstructibleChange([]))\n",
    "print(nonConstructibleChange([87]))\n",
    "print(nonConstructibleChange([5, 6, 1, 1, 2, 3, 4, 9]))\n",
    "print(nonConstructibleChange([5, 6, 1, 1, 2, 3, 43]))\n",
    "print(nonConstructibleChange([1, 1]))\n",
    "print(nonConstructibleChange([2]))\n",
    "print(nonConstructibleChange([1]))\n",
    "print(nonConstructibleChange([109, 2000, 8765, 19, 18, 17, 16, 8, 1, 1, 2, 4]))\n",
    "print(nonConstructibleChange([1, 2, 3, 4, 5, 6, 7]))"
   ]
  },
  {
   "cell_type": "code",
   "execution_count": null,
   "id": "785e8db7",
   "metadata": {},
   "outputs": [],
   "source": []
  }
 ],
 "metadata": {
  "kernelspec": {
   "display_name": "Python 3 (ipykernel)",
   "language": "python",
   "name": "python3"
  },
  "language_info": {
   "codemirror_mode": {
    "name": "ipython",
    "version": 3
   },
   "file_extension": ".py",
   "mimetype": "text/x-python",
   "name": "python",
   "nbconvert_exporter": "python",
   "pygments_lexer": "ipython3",
   "version": "3.9.7"
  }
 },
 "nbformat": 4,
 "nbformat_minor": 5
}
