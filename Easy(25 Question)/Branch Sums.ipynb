{
 "cells": [
  {
   "cell_type": "markdown",
   "id": "cd3db907",
   "metadata": {},
   "source": [
    "# Branch Sums :\n",
    "\n",
    "Write a function that takes in a Binary Tree and returns a list of its branch sums ordered from leftmost branch sum to rightmost branch sum.\n",
    "\n",
    "A branch sum is the sum of all values in a Binary Tree branch. A Binary Tree branch is a path of nodes in a tree that starts at the root node and ends at any leaf node.\n",
    "\n",
    "Each BinaryTree node has an integer value, a left child node, and a right child node. Children nodes can either be BinaryTree nodes themselves or None / null."
   ]
  },
  {
   "cell_type": "code",
   "execution_count": 2,
   "id": "6a63de93",
   "metadata": {},
   "outputs": [
    {
     "name": "stdout",
     "output_type": "stream",
     "text": [
      "[15, 16, 18, 10, 11]\n"
     ]
    }
   ],
   "source": [
    "#  time  complexity is O(n) \n",
    "#  space complexity is O(n)\n",
    "\n",
    "# This is the class of the input root. Do not edit it.\n",
    "class BinaryTree:\n",
    "    def __init__(self, value):\n",
    "        self.value = value\n",
    "        self.left = None\n",
    "        self.right = None\n",
    "\n",
    "\n",
    "def branchSums(tree):\n",
    "    ListSums=[]\n",
    "    branchSumsList(tree,0,ListSums)\n",
    "    return ListSums\n",
    "\n",
    "def branchSumsList(node,Sum,ListSums):\n",
    "    if node is None:\n",
    "        return\n",
    "    NewSum = Sum + node.value\n",
    "    if node.left is None and node.right is None:\n",
    "        ListSums.append(NewSum)\n",
    "        return \n",
    "    branchSumsList(node.left,NewSum,ListSums)\n",
    "    branchSumsList(node.right,NewSum,ListSums)\n",
    "\n",
    "\n",
    "    \n",
    "tree=BinaryTree(1)    \n",
    "tree.left = BinaryTree(2)\n",
    "tree.left.left = BinaryTree(4)\n",
    "tree.left.left.left = BinaryTree(8)\n",
    "tree.left.left.right = BinaryTree(9)\n",
    "tree.left.right = BinaryTree(5)\n",
    "tree.left.right.left = BinaryTree(10)\n",
    "tree.right = BinaryTree(3)   \n",
    "tree.right.left = BinaryTree(6)   \n",
    "tree.right.right = BinaryTree(7)   \n",
    "\n",
    "print(branchSums(tree))\n",
    "tree=None"
   ]
  },
  {
   "cell_type": "code",
   "execution_count": null,
   "id": "d67f0cfa",
   "metadata": {},
   "outputs": [],
   "source": []
  }
 ],
 "metadata": {
  "kernelspec": {
   "display_name": "Python 3 (ipykernel)",
   "language": "python",
   "name": "python3"
  },
  "language_info": {
   "codemirror_mode": {
    "name": "ipython",
    "version": 3
   },
   "file_extension": ".py",
   "mimetype": "text/x-python",
   "name": "python",
   "nbconvert_exporter": "python",
   "pygments_lexer": "ipython3",
   "version": "3.9.7"
  }
 },
 "nbformat": 4,
 "nbformat_minor": 5
}
