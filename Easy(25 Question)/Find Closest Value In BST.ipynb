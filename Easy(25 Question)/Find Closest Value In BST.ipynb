{
 "cells": [
  {
   "cell_type": "markdown",
   "id": "15b2ebee",
   "metadata": {},
   "source": [
    "# Find Closest Value In BST : \n",
    "\n",
    "Write a function that takes in a Binary Search Tree (BST) and a target integer value and returns the closest value to that target value contained in the BST.\n",
    "  \n",
    "You can assume that there will only be one closest value.\n",
    "  \n",
    "Each BST node has an integer value, a left child node, and a right child node. A node is said to be a valid BST node if and only if it satisfies the BST property: its value is strictly greater than the values of every node to its left; its value is less than or equal to the values of every node to its right; and its children nodes are either valid BST nodes themselves or None / null."
   ]
  },
  {
   "cell_type": "code",
   "execution_count": 7,
   "id": "9587663b",
   "metadata": {},
   "outputs": [
    {
     "name": "stdout",
     "output_type": "stream",
     "text": [
      "13\n",
      "26\n"
     ]
    }
   ],
   "source": [
    "# average case: \n",
    "#  time  complexity is O(log(n)) \n",
    "#  space complexity is O(log(n)) \n",
    "\n",
    "# worst case if tree similar to list ex: 10 -> 15 -> 20 -> 22  :\n",
    "#  time  complexity is O(n) \n",
    "#  space complexity is O(n) \n",
    "\n",
    "class BST:\n",
    "    def __init__(self, value):\n",
    "        self.value = value\n",
    "        self.left = None\n",
    "        self.right = None\n",
    "        \n",
    "\n",
    "def ClosestValue (tree, target,closest):\n",
    "    if tree is None:\n",
    "        return closest\n",
    "    if abs(target - closest) > abs(target-tree.value):\n",
    "        closest = tree.value\n",
    "        \n",
    "    if target < tree.value:\n",
    "        return ClosestValue(tree.left,target,closest)\n",
    "    elif target > tree.value:\n",
    "        return ClosestValue(tree.right,target,closest)\n",
    "    else:\n",
    "        return closest\n",
    "\n",
    "def findClosestValueInBst(tree, target):\n",
    "    return ClosestValue(tree, target,tree.value)\n",
    "\n",
    "\n",
    "\n",
    "\n",
    "\n",
    "root = BST(10)\n",
    "root.left = BST(5)\n",
    "root.left.left = BST(2)\n",
    "root.left.left.left = BST(1)\n",
    "root.left.right = BST(5)\n",
    "root.right = BST(15)\n",
    "root.right.left = BST(13)\n",
    "root.right.left.right = BST(14)\n",
    "root.right.right = BST(22)\n",
    "\n",
    "print(findClosestValueInBst(root,12))\n",
    "root=None\n",
    "\n",
    "root=BST(10)\n",
    "root.right = BST(13)\n",
    "root.right.right = BST(17)\n",
    "root.right.right.right = BST(19)\n",
    "root.right.right.right.right = BST(22)\n",
    "root.right.right.right.right.right= BST(26)\n",
    "root.right.right.right.right.right.right= BST(29)\n",
    "print(findClosestValueInBst(root,25))\n",
    "root=None"
   ]
  },
  {
   "cell_type": "code",
   "execution_count": null,
   "id": "6aea4a01",
   "metadata": {},
   "outputs": [],
   "source": []
  }
 ],
 "metadata": {
  "kernelspec": {
   "display_name": "Python 3 (ipykernel)",
   "language": "python",
   "name": "python3"
  },
  "language_info": {
   "codemirror_mode": {
    "name": "ipython",
    "version": 3
   },
   "file_extension": ".py",
   "mimetype": "text/x-python",
   "name": "python",
   "nbconvert_exporter": "python",
   "pygments_lexer": "ipython3",
   "version": "3.9.7"
  }
 },
 "nbformat": 4,
 "nbformat_minor": 5
}
