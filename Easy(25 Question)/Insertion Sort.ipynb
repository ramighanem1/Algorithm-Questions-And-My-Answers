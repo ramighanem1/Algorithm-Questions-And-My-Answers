{
 "cells": [
  {
   "cell_type": "markdown",
   "id": "97e6a90d",
   "metadata": {},
   "source": [
    "# Insertion Sort : \n",
    "\n",
    "Write a function that takes in an array of integers and returns a sorted version of that array. Use the Insertion Sort algorithm to sort the array."
   ]
  },
  {
   "cell_type": "code",
   "execution_count": 1,
   "id": "04afc80e",
   "metadata": {},
   "outputs": [
    {
     "name": "stdout",
     "output_type": "stream",
     "text": [
      "[2, 3, 5, 5, 6, 8, 9]\n",
      "[1]\n",
      "[1, 2]\n",
      "[1, 2]\n",
      "[1, 2, 3]\n",
      "[1, 2, 3]\n"
     ]
    }
   ],
   "source": [
    "# Best: O(n) time | O(1) space\n",
    "# Average,Worst: O(n^2) time | O(1) space\n",
    "\n",
    "def insertionSort(array):\n",
    "    for index in range(1, len(array)):\n",
    "        currentValue = array[index]\n",
    "        currentPosition = index\n",
    "        while currentPosition > 0 and array[currentPosition - 1] > currentValue:\n",
    "            array[currentPosition] = array[currentPosition -1]\n",
    "            currentPosition = currentPosition - 1\n",
    "        array[currentPosition] = currentValue\n",
    "    return array\n",
    "\n",
    "\n",
    "\n",
    "print(insertionSort([8, 5, 2, 9, 5, 6, 3]))\n",
    "print(insertionSort([1]))\n",
    "print(insertionSort([1, 2]))\n",
    "print(insertionSort([2, 1]))\n",
    "print(insertionSort([1, 3, 2]))\n",
    "print(insertionSort([3, 1, 2]))"
   ]
  },
  {
   "cell_type": "code",
   "execution_count": null,
   "id": "60d8507e",
   "metadata": {},
   "outputs": [],
   "source": []
  }
 ],
 "metadata": {
  "kernelspec": {
   "display_name": "Python 3 (ipykernel)",
   "language": "python",
   "name": "python3"
  },
  "language_info": {
   "codemirror_mode": {
    "name": "ipython",
    "version": 3
   },
   "file_extension": ".py",
   "mimetype": "text/x-python",
   "name": "python",
   "nbconvert_exporter": "python",
   "pygments_lexer": "ipython3",
   "version": "3.9.7"
  }
 },
 "nbformat": 4,
 "nbformat_minor": 5
}
