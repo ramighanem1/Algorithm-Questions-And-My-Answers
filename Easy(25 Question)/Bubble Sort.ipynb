{
 "cells": [
  {
   "cell_type": "markdown",
   "id": "b4d77f0c",
   "metadata": {},
   "source": [
    "# Bubble Sort : \n",
    "\n",
    "Write a function that takes in an array of integers and returns a sorted version of that array. Use the Bubble Sort algorithm to sort the array."
   ]
  },
  {
   "cell_type": "code",
   "execution_count": 6,
   "id": "020cadbf",
   "metadata": {},
   "outputs": [
    {
     "name": "stdout",
     "output_type": "stream",
     "text": [
      "[2, 3, 5, 5, 6, 8, 9]\n",
      "[1]\n",
      "[1, 2]\n",
      "[1, 2]\n",
      "[1, 2, 3]\n"
     ]
    }
   ],
   "source": [
    "# Best: O(n) time | O(1) space\n",
    "# Average,Worst: O(n^2) time | O(1) space\n",
    "\n",
    "def bubbleSort(array):\n",
    "    Swapped = True\n",
    "    while(Swapped):\n",
    "        Swapped = False\n",
    "        for i in range(len(array)-1):\n",
    "            if array[i] > array[i+1]:\n",
    "                array[i], array[i+1] = array[i+1], array[i]\n",
    "                Swapped = True\n",
    "    return array\n",
    "\n",
    "print(bubbleSort([8, 5, 2, 9, 5, 6, 3]))\n",
    "print(bubbleSort([1]))\n",
    "print(bubbleSort([1, 2]))\n",
    "print(bubbleSort([2, 1]))\n",
    "print(bubbleSort([1, 3, 2]))"
   ]
  },
  {
   "cell_type": "code",
   "execution_count": null,
   "id": "953cedcf",
   "metadata": {},
   "outputs": [],
   "source": []
  }
 ],
 "metadata": {
  "kernelspec": {
   "display_name": "Python 3 (ipykernel)",
   "language": "python",
   "name": "python3"
  },
  "language_info": {
   "codemirror_mode": {
    "name": "ipython",
    "version": 3
   },
   "file_extension": ".py",
   "mimetype": "text/x-python",
   "name": "python",
   "nbconvert_exporter": "python",
   "pygments_lexer": "ipython3",
   "version": "3.9.7"
  }
 },
 "nbformat": 4,
 "nbformat_minor": 5
}
