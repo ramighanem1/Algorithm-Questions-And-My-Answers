{
 "cells": [
  {
   "cell_type": "markdown",
   "id": "3aea6da8",
   "metadata": {},
   "source": [
    "# First Non-Repeating Character : \n",
    "\n",
    "Write a function that takes in a string of lowercase English-alphabet letters and returns the index of the string's first non-repeating character.\n",
    "\n",
    "The first non-repeating character is the first character in a string that occurs only once.\n",
    "  \n",
    "If the input string doesn't have any non-repeating characters, your function should return -1."
   ]
  },
  {
   "cell_type": "code",
   "execution_count": 8,
   "id": "675fe371",
   "metadata": {},
   "outputs": [
    {
     "name": "stdout",
     "output_type": "stream",
     "text": [
      "1\n",
      "6\n",
      "0\n",
      "0\n",
      "0\n",
      "1\n",
      "5\n",
      "-1\n"
     ]
    }
   ],
   "source": [
    "#  time  complexity is O(n) \n",
    "#  space complexity is O(n)\n",
    "\n",
    "def firstNonRepeatingCharacter(string):\n",
    "    if len(string) == 0:\n",
    "        return -1\n",
    "    dictResult=dict()\n",
    "    for index,va in enumerate(string):\n",
    "        if va in dictResult:\n",
    "            dictResult[va][0]=False\n",
    "        else:\n",
    "            dictResult[va]=[True,index]\n",
    "    for va in dictResult.values():\n",
    "        if va[0]:\n",
    "            return va[1]\n",
    "    return -1\n",
    "\n",
    "\n",
    "print(firstNonRepeatingCharacter(\"abcdcaf\"))\n",
    "print(firstNonRepeatingCharacter(\"faadabcbbebdf\"))\n",
    "print(firstNonRepeatingCharacter(\"a\"))\n",
    "print(firstNonRepeatingCharacter(\"ab\"))\n",
    "print(firstNonRepeatingCharacter(\"abc\"))\n",
    "print(firstNonRepeatingCharacter(\"abac\"))\n",
    "print(firstNonRepeatingCharacter(\"ababac\"))\n",
    "print(firstNonRepeatingCharacter(\"ababacc\"))"
   ]
  },
  {
   "cell_type": "code",
   "execution_count": null,
   "id": "20a5c976",
   "metadata": {},
   "outputs": [],
   "source": []
  }
 ],
 "metadata": {
  "kernelspec": {
   "display_name": "Python 3 (ipykernel)",
   "language": "python",
   "name": "python3"
  },
  "language_info": {
   "codemirror_mode": {
    "name": "ipython",
    "version": 3
   },
   "file_extension": ".py",
   "mimetype": "text/x-python",
   "name": "python",
   "nbconvert_exporter": "python",
   "pygments_lexer": "ipython3",
   "version": "3.9.7"
  }
 },
 "nbformat": 4,
 "nbformat_minor": 5
}
