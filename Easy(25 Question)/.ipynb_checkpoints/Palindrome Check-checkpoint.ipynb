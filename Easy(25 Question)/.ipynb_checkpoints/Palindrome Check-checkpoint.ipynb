{
 "cells": [
  {
   "cell_type": "markdown",
   "id": "d5a76ca9",
   "metadata": {},
   "source": [
    "# Palindrome Check : \n",
    "\n",
    "Write a function that takes in a non-empty string and that returns a boolean representing whether the string is a palindrome.\n",
    "\n",
    "A palindrome is defined as a string that's written the same forward and backward. Note that single-character strings are palindromes."
   ]
  },
  {
   "cell_type": "code",
   "execution_count": 8,
   "id": "4bf8e86c",
   "metadata": {},
   "outputs": [
    {
     "name": "stdout",
     "output_type": "stream",
     "text": [
      "True\n",
      "True\n",
      "False\n",
      "True\n",
      "True\n",
      "False\n"
     ]
    }
   ],
   "source": [
    "#  time  complexity is O(nlog(n)) \n",
    "#  space complexity is O(nlog(1))\n",
    "\n",
    "def isPalindrome(string):\n",
    "    lenstring=len(string)-1\n",
    "    for i in range(lenstring):\n",
    "        if string[lenstring] !=string[i]:\n",
    "            return False\n",
    "        lenstring-=1\n",
    "    return True\n",
    "\n",
    "\n",
    "print(isPalindrome(\"abcdcba\"))\n",
    "print(isPalindrome(\"a\"))\n",
    "print(isPalindrome(\"ab\"))\n",
    "print(isPalindrome(\"aba\"))\n",
    "print(isPalindrome(\"abcdefghihgfedcba\"))\n",
    "print(isPalindrome(\"abcdefghihgfeddcba\"))"
   ]
  },
  {
   "cell_type": "code",
   "execution_count": null,
   "id": "88c7ebfd",
   "metadata": {},
   "outputs": [],
   "source": []
  }
 ],
 "metadata": {
  "kernelspec": {
   "display_name": "Python 3 (ipykernel)",
   "language": "python",
   "name": "python3"
  },
  "language_info": {
   "codemirror_mode": {
    "name": "ipython",
    "version": 3
   },
   "file_extension": ".py",
   "mimetype": "text/x-python",
   "name": "python",
   "nbconvert_exporter": "python",
   "pygments_lexer": "ipython3",
   "version": "3.9.7"
  }
 },
 "nbformat": 4,
 "nbformat_minor": 5
}
