{
 "cells": [
  {
   "cell_type": "markdown",
   "id": "ad93c7bd",
   "metadata": {},
   "source": [
    "# Caesar Cipher Encryptor : \n",
    "\n",
    "Given a non-empty string of lowercase letters and a non-negative integer representing a key, write a function that returns a new string obtained by shifting every letter in the input string by k positions in the alphabet, where k is the key.\n",
    "\n",
    "Note that letters should \"wrap\" around the alphabet; in other words, the letter z shifted by one returns the letter a."
   ]
  },
  {
   "cell_type": "code",
   "execution_count": 26,
   "id": "235cc148",
   "metadata": {},
   "outputs": [
    {
     "name": "stdout",
     "output_type": "stream",
     "text": [
      "zab\n",
      "abc\n",
      "def\n",
      "cde\n",
      "abc\n",
      "abc\n"
     ]
    }
   ],
   "source": [
    "#  time  complexity is O(n) \n",
    "#  space complexity is O(n)\n",
    "\n",
    "def caesarCipherEncryptor(string, key):\n",
    "    NewString = ''\n",
    "    for c in string:\n",
    "        num=ord(c)+key\n",
    "        if  num > 122:\n",
    "            num= 96 + ((num - 122) % 26)\n",
    "        NewString += chr(num)\n",
    "    return NewString\n",
    "\n",
    "\n",
    "\n",
    "\n",
    "print(caesarCipherEncryptor(\"xyz\",2))\n",
    "print(caesarCipherEncryptor(\"abc\",0))\n",
    "print(caesarCipherEncryptor(\"abc\",3))\n",
    "print(caesarCipherEncryptor(\"xyz\",5))\n",
    "print(caesarCipherEncryptor(\"abc\",26))\n",
    "print(caesarCipherEncryptor(\"abc\",52))"
   ]
  },
  {
   "cell_type": "code",
   "execution_count": null,
   "id": "5b2f407c",
   "metadata": {},
   "outputs": [],
   "source": []
  }
 ],
 "metadata": {
  "kernelspec": {
   "display_name": "Python 3 (ipykernel)",
   "language": "python",
   "name": "python3"
  },
  "language_info": {
   "codemirror_mode": {
    "name": "ipython",
    "version": 3
   },
   "file_extension": ".py",
   "mimetype": "text/x-python",
   "name": "python",
   "nbconvert_exporter": "python",
   "pygments_lexer": "ipython3",
   "version": "3.9.7"
  }
 },
 "nbformat": 4,
 "nbformat_minor": 5
}
