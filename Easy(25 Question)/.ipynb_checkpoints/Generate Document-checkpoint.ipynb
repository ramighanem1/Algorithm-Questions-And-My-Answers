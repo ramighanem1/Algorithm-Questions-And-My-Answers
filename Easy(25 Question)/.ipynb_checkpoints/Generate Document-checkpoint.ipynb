{
 "cells": [
  {
   "cell_type": "markdown",
   "id": "a34c3004",
   "metadata": {},
   "source": [
    "# Generate Document : \n",
    "\n",
    "You're given a string of available characters and a string representing a document that you need to generate. Write a function that determines if you can generate the document using the available characters. If you can generate the document, your function should return true; otherwise, it should return false.\n",
    "\n",
    "You're only able to generate the document if the frequency of unique characters in the characters string is greater than or equal to the frequency of unique characters in the document string. For example, if you're given characters = \"abcabc\" and document = \"aabbccc\" you cannot generate the document because you're missing one c.\n",
    "  \n",
    "The document that you need to create may contain any characters, including special characters, capital letters, numbers, and spaces.\n"
   ]
  },
  {
   "cell_type": "code",
   "execution_count": 21,
   "id": "2e846c30",
   "metadata": {},
   "outputs": [
    {
     "name": "stdout",
     "output_type": "stream",
     "text": [
      "True\n",
      "False\n",
      "True\n",
      "True\n",
      "False\n",
      "True\n",
      "True\n",
      "False\n"
     ]
    }
   ],
   "source": [
    "#  time  complexity is O(n) \n",
    "#  space complexity is O(n)\n",
    "def generateDocument(characters, document):\n",
    "    if len(document)>len(characters):\n",
    "        return False\n",
    "    dictCheck=dict()\n",
    "    for i in characters:\n",
    "        if i in dictCheck.keys():\n",
    "            dictCheck[i][0]+=1\n",
    "        else:\n",
    "            dictCheck[i]=[1,0]\n",
    "            \n",
    "    for i in document:\n",
    "        if i in dictCheck.keys():\n",
    "            dictCheck[i][1]+=1\n",
    "        else:\n",
    "            return False\n",
    "        \n",
    "    for i in dictCheck.values():\n",
    "        if i[1] > i[0]:\n",
    "            return False\n",
    "    return True\n",
    "\n",
    "\n",
    "print(generateDocument(\"Bste!hetsi ogEAxpelrt x \",\"AlgoExpert is the Best!\"))\n",
    "print(generateDocument(\"A\",\"a\"))\n",
    "print(generateDocument(\"a\",\"a\"))\n",
    "print(generateDocument(\"a hsgalhsa sanbjksbdkjba kjx\",\"\"))\n",
    "print(generateDocument(\" \",\"hello\"))\n",
    "print(generateDocument(\"     \",\"     \"))\n",
    "print(generateDocument(\"aheaollabbhb\",\"hello\"))\n",
    "print(generateDocument(\"aheaolabbhb\",\"hello\"))"
   ]
  },
  {
   "cell_type": "code",
   "execution_count": null,
   "id": "ded8d9b5",
   "metadata": {},
   "outputs": [],
   "source": []
  }
 ],
 "metadata": {
  "kernelspec": {
   "display_name": "Python 3 (ipykernel)",
   "language": "python",
   "name": "python3"
  },
  "language_info": {
   "codemirror_mode": {
    "name": "ipython",
    "version": 3
   },
   "file_extension": ".py",
   "mimetype": "text/x-python",
   "name": "python",
   "nbconvert_exporter": "python",
   "pygments_lexer": "ipython3",
   "version": "3.9.7"
  }
 },
 "nbformat": 4,
 "nbformat_minor": 5
}
