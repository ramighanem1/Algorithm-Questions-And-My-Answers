{
 "cells": [
  {
   "cell_type": "markdown",
   "id": "b92f34c9",
   "metadata": {},
   "source": [
    "# Selection Sort : \n",
    "\n",
    "Write a function that takes in an array of integers and returns a sorted version of that array. Use the Selection Sort algorithm to sort the array."
   ]
  },
  {
   "cell_type": "code",
   "execution_count": 1,
   "id": "e90cfe8b",
   "metadata": {},
   "outputs": [
    {
     "name": "stdout",
     "output_type": "stream",
     "text": [
      "[2, 3, 5, 5, 6, 8, 9]\n",
      "[1]\n",
      "[1, 2]\n",
      "[1, 2]\n",
      "[1, 2, 3]\n"
     ]
    }
   ],
   "source": [
    "# Best,Average,Worst: O(n^2) time | O(1) space\n",
    "\n",
    "def selectionSort(array):\n",
    "    # Write your code here.\n",
    "    for i in range(len(array)):\n",
    "        MinIndex = i\n",
    "        for j in range(i+1,len(array)):\n",
    "            if array[j] <  array[MinIndex]:\n",
    "                MinIndex=j\n",
    "        if (MinIndex != i) :\n",
    "            array[i],array[MinIndex]= array[MinIndex],array[i]\n",
    "    return array\n",
    "\n",
    "print(selectionSort([8, 5, 2, 9, 5, 6, 3]))\n",
    "print(selectionSort([1]))\n",
    "print(selectionSort([1, 2]))\n",
    "print(selectionSort([2, 1]))\n",
    "print(selectionSort([1, 3, 2]))"
   ]
  },
  {
   "cell_type": "code",
   "execution_count": null,
   "id": "632e5a86",
   "metadata": {},
   "outputs": [],
   "source": []
  }
 ],
 "metadata": {
  "kernelspec": {
   "display_name": "Python 3 (ipykernel)",
   "language": "python",
   "name": "python3"
  },
  "language_info": {
   "codemirror_mode": {
    "name": "ipython",
    "version": 3
   },
   "file_extension": ".py",
   "mimetype": "text/x-python",
   "name": "python",
   "nbconvert_exporter": "python",
   "pygments_lexer": "ipython3",
   "version": "3.9.7"
  }
 },
 "nbformat": 4,
 "nbformat_minor": 5
}
