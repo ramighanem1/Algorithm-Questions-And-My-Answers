{
 "cells": [
  {
   "cell_type": "markdown",
   "id": "122ec7e6",
   "metadata": {},
   "source": [
    "# Run-Length Encoding :\n",
    " \n",
    "Write a function that takes in a non-empty string and returns its run-length encoding.\n",
    "\n",
    "From Wikipedia, \"run-length encoding is a form of lossless data compression in which runs of data are stored as a single data value and count, rather than as the original run.\" For this problem, a run of data is any sequence of consecutive, identical characters. So the run \"AAA\" would be run-length-encoded as \"3A\"\n",
    " \n",
    "To make things more complicated, however, the input string can contain all sorts of special characters, including numbers. And since encoded data must be decodable, this means that we can't naively run-length-encode long runs. For example, the run \"AAAAAAAAAAAA\" (12 A s), can't naively be encoded as \"12A\", since this string can be decoded as either \"AAAAAAAAAAAA\" or \"1AA\". Thus, long runs (runs of 10 or more characters) should be encoded in a split fashion; the aforementioned run should be encoded as \"9A3A\""
   ]
  },
  {
   "cell_type": "code",
   "execution_count": 1,
   "id": "d3f34acd",
   "metadata": {},
   "outputs": [
    {
     "name": "stdout",
     "output_type": "stream",
     "text": [
      "9A4A2B4C2D\n",
      "1a1A\n",
      "112233\n",
      "9*3*7^6$7%6!9A9A2A\n",
      "1a1A1a1A5a1A3a4A1B3b4B\n"
     ]
    }
   ],
   "source": [
    "#  time  complexity is O(n) \n",
    "#  space complexity is O(n)\n",
    "def runLengthEncoding(string):\n",
    "    ResultString = ''\n",
    "    Temp = string[0]\n",
    "    count = 0\n",
    "    for i in string:\n",
    "        if Temp == i and count+1 != 10:\n",
    "            count+=1\n",
    "            continue\n",
    "        ResultString=ResultString + str(count)+Temp\n",
    "        Temp=i\n",
    "        count = 1\n",
    "    else:\n",
    "        ResultString=ResultString + str(count)+Temp\n",
    "        \n",
    "    return ResultString\n",
    "\n",
    "print(runLengthEncoding(\"AAAAAAAAAAAAABBCCCCDD\"))\n",
    "print(runLengthEncoding(\"aA\"))\n",
    "print(runLengthEncoding(\"122333\"))\n",
    "print(runLengthEncoding(\"************^^^^^^^$$$$$$%%%%%%%!!!!!!AAAAAAAAAAAAAAAAAAAA\"))\n",
    "print(runLengthEncoding(\"aAaAaaaaaAaaaAAAABbbbBBBB\"))"
   ]
  },
  {
   "cell_type": "code",
   "execution_count": null,
   "id": "1fee0fc0",
   "metadata": {},
   "outputs": [],
   "source": []
  }
 ],
 "metadata": {
  "kernelspec": {
   "display_name": "Python 3 (ipykernel)",
   "language": "python",
   "name": "python3"
  },
  "language_info": {
   "codemirror_mode": {
    "name": "ipython",
    "version": 3
   },
   "file_extension": ".py",
   "mimetype": "text/x-python",
   "name": "python",
   "nbconvert_exporter": "python",
   "pygments_lexer": "ipython3",
   "version": "3.9.7"
  }
 },
 "nbformat": 4,
 "nbformat_minor": 5
}
