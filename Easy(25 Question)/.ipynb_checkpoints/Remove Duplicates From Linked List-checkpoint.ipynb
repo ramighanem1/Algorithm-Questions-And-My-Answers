{
 "cells": [
  {
   "cell_type": "markdown",
   "id": "1fec9b1a",
   "metadata": {},
   "source": [
    "# Remove Duplicates From Linked List : \n",
    "\n",
    "You're given the head of a Singly Linked List whose nodes are in sorted order with respect to their values. Write a function that returns a modified version of the Linked List that doesn't contain any nodes with duplicate values. The Linked List should be modified in place (i.e., you shouldn't create a brand new list), and the modified Linked List should still have its nodes sorted with respect to their values.\n",
    "\n",
    "Each LinkedList node has an integer value as well as a next node pointing to the next node in the list or to None / null if it's the tail of the list."
   ]
  },
  {
   "cell_type": "code",
   "execution_count": 3,
   "id": "fcaaeec7",
   "metadata": {},
   "outputs": [
    {
     "name": "stdout",
     "output_type": "stream",
     "text": [
      "1\n",
      "3\n",
      "4\n",
      "5\n",
      "6\n"
     ]
    }
   ],
   "source": [
    "#  time  complexity is O(n) \n",
    "#  space complexity is O(1)\n",
    "\n",
    "\n",
    "class LinkedList:\n",
    "    def __init__(self, value):\n",
    "        self.value = value\n",
    "        self.next = None\n",
    "\n",
    "\n",
    "def removeDuplicatesFromLinkedList(linkedList):\n",
    "    result=linkedList\n",
    "    while(linkedList.next !=None):\n",
    "        if (linkedList.value==linkedList.next.value):\n",
    "            x=linkedList.next\n",
    "            linkedList.next=linkedList.next.next\n",
    "            x.next=None\n",
    "        else:\n",
    "            linkedList=linkedList.next\n",
    "\n",
    "    return result\n",
    "\n",
    "#  1 -> 1 -> 3 -> 4 -> 4 -> 4 -> 5 -> 6 -> 6 \n",
    "test = LinkedList(1)\n",
    "test.next=LinkedList(1)\n",
    "test.next.next=LinkedList(3)\n",
    "test.next.next.next=LinkedList(4)\n",
    "test.next.next.next.next=LinkedList(4)\n",
    "test.next.next.next.next.next=LinkedList(4)\n",
    "test.next.next.next.next.next.next=LinkedList(5)\n",
    "test.next.next.next.next.next.next.next=LinkedList(6)\n",
    "test.next.next.next.next.next.next.next.next=LinkedList(6)\n",
    "\n",
    "test=removeDuplicatesFromLinkedList(test)\n",
    "\n",
    "printTest=test\n",
    "while(True):\n",
    "    print(printTest.value) \n",
    "    if(printTest.next is None):\n",
    "        break\n",
    "    printTest = printTest.next"
   ]
  },
  {
   "cell_type": "code",
   "execution_count": null,
   "id": "807aaf4a",
   "metadata": {},
   "outputs": [],
   "source": []
  }
 ],
 "metadata": {
  "kernelspec": {
   "display_name": "Python 3 (ipykernel)",
   "language": "python",
   "name": "python3"
  },
  "language_info": {
   "codemirror_mode": {
    "name": "ipython",
    "version": 3
   },
   "file_extension": ".py",
   "mimetype": "text/x-python",
   "name": "python",
   "nbconvert_exporter": "python",
   "pygments_lexer": "ipython3",
   "version": "3.9.7"
  }
 },
 "nbformat": 4,
 "nbformat_minor": 5
}
