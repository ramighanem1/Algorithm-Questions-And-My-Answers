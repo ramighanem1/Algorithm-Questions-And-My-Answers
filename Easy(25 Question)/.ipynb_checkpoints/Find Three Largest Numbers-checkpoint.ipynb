{
 "cells": [
  {
   "cell_type": "markdown",
   "id": "03e95e62",
   "metadata": {},
   "source": [
    "# Find Three Largest Numbers : \n",
    "\n",
    "Write a function that takes in an array of at least three integers and, without sorting the input array, returns a sorted array of the three largest integers in the input array.\n",
    "  \n",
    "The function should return duplicate integers if necessary; for example, it should return [10, 10, 12] \n",
    "for an input array of [10, 5, 9, 10, 12]."
   ]
  },
  {
   "cell_type": "code",
   "execution_count": 12,
   "id": "7b2cc7a8",
   "metadata": {},
   "outputs": [
    {
     "name": "stdout",
     "output_type": "stream",
     "text": [
      "[18, 141, 541]\n",
      "[7, 8, 55]\n",
      "[10, 10, 12]\n",
      "[7, 7, 8]\n"
     ]
    }
   ],
   "source": [
    "#  time  complexity is O(n) \n",
    "#  space complexity is O(1)\n",
    "\n",
    "def FindMinIndex(ArrayResult):\n",
    "    ResultIndex=0\n",
    "    for i in range(1,len(ArrayResult)):\n",
    "        if ArrayResult[i] < ArrayResult[ResultIndex]:\n",
    "            ResultIndex=i\n",
    "    return ResultIndex\n",
    "\n",
    "\n",
    "def findThreeLargestNumbers(array):\n",
    "    ArrayResult = array[:3]\n",
    "    MinIndex=FindMinIndex(ArrayResult)\n",
    "    for i in range(3,len(array)):\n",
    "        if array[i] > ArrayResult[MinIndex]:\n",
    "            ArrayResult[MinIndex]=array[i]\n",
    "            MinIndex=FindMinIndex(ArrayResult)\n",
    "            \n",
    "    a, b, c = ArrayResult[0], ArrayResult[1], ArrayResult[2]\n",
    "    x = min(a, b, c) \n",
    "    z = max(a, b, c)\n",
    "    y = (a + b + c) - (x + z)  \n",
    "    \n",
    "    return [x,y,z]\n",
    "\n",
    "\n",
    "\n",
    "print(findThreeLargestNumbers([141, 1, 17, -7, -17, -27, 18, 541, 8, 7, 7]))\n",
    "print(findThreeLargestNumbers([55, 7, 8]))\n",
    "print(findThreeLargestNumbers([10, 5, 9, 10, 12]))\n",
    "print(findThreeLargestNumbers([7, 7, 7, 7, 7, 7, 8, 7, 7, 7, 7]))"
   ]
  },
  {
   "cell_type": "code",
   "execution_count": null,
   "id": "137a997b",
   "metadata": {},
   "outputs": [],
   "source": []
  }
 ],
 "metadata": {
  "kernelspec": {
   "display_name": "Python 3 (ipykernel)",
   "language": "python",
   "name": "python3"
  },
  "language_info": {
   "codemirror_mode": {
    "name": "ipython",
    "version": 3
   },
   "file_extension": ".py",
   "mimetype": "text/x-python",
   "name": "python",
   "nbconvert_exporter": "python",
   "pygments_lexer": "ipython3",
   "version": "3.9.7"
  }
 },
 "nbformat": 4,
 "nbformat_minor": 5
}
