{
 "cells": [
  {
   "cell_type": "markdown",
   "id": "5377974f",
   "metadata": {},
   "source": [
    "# Minimum Waiting Time :\n",
    "\n",
    "You're given a non-empty array of positive integers representing the amounts of time that specific queries take to execute. Only one query can be executed at a time, but the queries can be executed in any order.\n",
    "  \n",
    "A query's waiting time is defined as the amount of time that it must wait before its execution starts. In other words, if a query is executed second, then its waiting time is the duration of the first query; if a query is executed third, then its waiting time is the sum of the durations of the first two queries.\n",
    "  \n",
    "Write a function that returns the minimum amount of total waiting time for all of the queries. For example, if you're given the queries of durations [1, 4, 5], then the total waiting time if the queries were executed in the order of [5, 1, 4] \n",
    "would be (0) + (5) + (5 + 1) = 11. The first query of duration 5 would be executed immediately, so its waiting time would be 0, the second query of duration 1 would have to wait 5 seconds (the duration of the first query) to be executed, and the last query would have to wait the duration of the first two queries before being executed.\n",
    "  \n",
    "Note: you're allowed to mutate the input array."
   ]
  },
  {
   "cell_type": "code",
   "execution_count": 7,
   "id": "2f570b32",
   "metadata": {},
   "outputs": [
    {
     "name": "stdout",
     "output_type": "stream",
     "text": [
      "17\n",
      "6\n",
      "23\n",
      "32\n",
      "10\n",
      "19\n",
      "45\n",
      "0\n",
      "0\n"
     ]
    }
   ],
   "source": [
    "#  time  complexity is O(nlog(n))\n",
    "#  space complexity is O(1)\n",
    "\n",
    "\n",
    "def minimumWaitingTime(queries):\n",
    "    queries.sort()\n",
    "    temp = 0 \n",
    "    Total = 0 \n",
    "    for i in range(len(queries)):\n",
    "        if (i==0):\n",
    "            Total += 0\n",
    "            temp += queries[i]\n",
    "        else:\n",
    "            Total += temp\n",
    "            temp += queries[i]\n",
    "        \n",
    "    return Total\n",
    "\n",
    "\n",
    "\n",
    "\n",
    "\n",
    "print (minimumWaitingTime([3, 2, 1, 2, 6]) )\n",
    "print (minimumWaitingTime([2, 1, 1, 1]) )\n",
    "print (minimumWaitingTime([1, 2, 4, 5, 2, 1]) )\n",
    "print (minimumWaitingTime([25, 30, 2, 1]) )\n",
    "print (minimumWaitingTime([1, 1, 1, 1, 1]) )\n",
    "print (minimumWaitingTime([7, 9, 2, 3]) )\n",
    "print (minimumWaitingTime([4, 3, 1, 1, 3, 2, 1, 8]) )\n",
    "print (minimumWaitingTime([2]) )\n",
    "print (minimumWaitingTime([7]) )"
   ]
  }
 ],
 "metadata": {
  "kernelspec": {
   "display_name": "Python 3 (ipykernel)",
   "language": "python",
   "name": "python3"
  },
  "language_info": {
   "codemirror_mode": {
    "name": "ipython",
    "version": 3
   },
   "file_extension": ".py",
   "mimetype": "text/x-python",
   "name": "python",
   "nbconvert_exporter": "python",
   "pygments_lexer": "ipython3",
   "version": "3.9.7"
  }
 },
 "nbformat": 4,
 "nbformat_minor": 5
}
