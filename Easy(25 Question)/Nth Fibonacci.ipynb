{
 "cells": [
  {
   "cell_type": "markdown",
   "id": "c66ed739",
   "metadata": {},
   "source": [
    "# Nth Fibonacci : \n",
    "\n",
    "The Fibonacci sequence is defined as follows: the first number of the sequence is 0, the second number is 1, and the nth number is the sum of the (n - 1)th and (n - 2)th numbers. Write a function that takes in an integer n and returns the nth Fibonacci number.\n",
    "\n",
    "Important note: the Fibonacci sequence is often defined with its first two numbers as F0 = 0 and F1 = 1. For the purpose of this question, the first Fibonacci number is F0; therefore, getNthFib(1) is equal to F0, getNthFib(2) is equal to F1, etc.."
   ]
  },
  {
   "cell_type": "code",
   "execution_count": 2,
   "id": "f26221e3",
   "metadata": {
    "scrolled": true
   },
   "outputs": [
    {
     "name": "stdout",
     "output_type": "stream",
     "text": [
      "5\n",
      "0\n",
      "1\n",
      "1\n",
      "2\n",
      "3\n",
      "8\n",
      "13\n",
      "21\n"
     ]
    }
   ],
   "source": [
    "#  time  complexity is O(n) \n",
    "#  space complexity is O(1)\n",
    "\n",
    "def getNthFib(n):\n",
    "    result = [0,1]\n",
    "    counter = 3\n",
    "    while(counter <= n):\n",
    "        num = result[0] + result[1]\n",
    "        result[0]=result[1]\n",
    "        result[1] = num\n",
    "        counter += 1\n",
    "    if (n > 1) :\n",
    "        return result[1]\n",
    "    return result[0]\n",
    "\n",
    "print (getNthFib(6))\n",
    "print (getNthFib(1))\n",
    "print (getNthFib(2))\n",
    "print (getNthFib(3))\n",
    "print (getNthFib(4))\n",
    "print (getNthFib(5))\n",
    "print (getNthFib(7))\n",
    "print (getNthFib(8))\n",
    "print (getNthFib(9))"
   ]
  },
  {
   "cell_type": "code",
   "execution_count": null,
   "id": "c27b78e9",
   "metadata": {},
   "outputs": [],
   "source": []
  }
 ],
 "metadata": {
  "kernelspec": {
   "display_name": "Python 3 (ipykernel)",
   "language": "python",
   "name": "python3"
  },
  "language_info": {
   "codemirror_mode": {
    "name": "ipython",
    "version": 3
   },
   "file_extension": ".py",
   "mimetype": "text/x-python",
   "name": "python",
   "nbconvert_exporter": "python",
   "pygments_lexer": "ipython3",
   "version": "3.9.7"
  }
 },
 "nbformat": 4,
 "nbformat_minor": 5
}
