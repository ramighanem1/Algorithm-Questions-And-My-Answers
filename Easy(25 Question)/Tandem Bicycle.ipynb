{
 "cells": [
  {
   "cell_type": "markdown",
   "id": "44c1c116",
   "metadata": {},
   "source": [
    "# Tandem Bicycle : \n",
    "\n",
    "A tandem bicycle is a bicycle that's operated by two people: person A and person B. Both people pedal the bicycle, but the person that pedals faster dictates the speed of the bicycle. So if person A pedals at a speed of 5, and person B pedals at a speed of 4 , the tandem bicycle moves at a speed of 5  (i.e., tandemSpeed = max(speedA, speedB)\n",
    "\n",
    "You're given two lists of positive integers: one that contains the speeds of riders wearing red shirts and one that contains the speeds of riders wearing blue shirts. Each rider is represented by a single positive integer, which is the speed that they pedal a tandem bicycle at. Both lists have the same length, meaning that there are as many red-shirt riders as there are blue-shirt riders. Your goal is to pair every rider wearing a red shirt with a rider wearing a blue shirt to operate a tandem bicycle.\n",
    "\n",
    "Write a function that returns the maximum possible total speed or the minimum possible total speed of all of the tandem bicycles being ridden based on an input parameter, fastest. If fastest = true, your function should return the maximum possible total speed; otherwise it should return the minimum total speed.\n",
    "\n",
    "\"Total speed\" is defined as the sum of the speeds of all the tandem bicycles being ridden. For example, if there are 4 riders (2 red-shirt riders and 2 blue-shirt riders) who have speeds of 1, 3, 4, 5, and if they're paired on tandem bicycles as follows: [1, 4], [5, 3], then the total speed of these tandem bicycles is 4 + 5 = 9."
   ]
  },
  {
   "cell_type": "code",
   "execution_count": 1,
   "id": "fe35fc9e",
   "metadata": {},
   "outputs": [
    {
     "name": "stdout",
     "output_type": "stream",
     "text": [
      "32\n",
      "25\n",
      "\n",
      "30\n",
      "37\n",
      "\n",
      "816\n",
      "484\n"
     ]
    }
   ],
   "source": [
    "#  time  complexity is O(nlog(n)) \n",
    "#  space complexity is O(1)\n",
    "\n",
    "def tandemBicycle(redShirtSpeeds, blueShirtSpeeds, fastest):\n",
    "    Total=0\n",
    "    redShirtSpeeds.sort()\n",
    "    if fastest:\n",
    "        blueShirtSpeeds.sort(reverse=True)\n",
    "    else:\n",
    "        blueShirtSpeeds.sort()\n",
    "    for i in range(len(redShirtSpeeds)):\n",
    "        Total+=max(redShirtSpeeds[i],blueShirtSpeeds[i])\n",
    "    return Total\n",
    "\n",
    "\n",
    "print (tandemBicycle([5, 5, 3, 9, 2],[3, 6, 7, 2, 1],True))\n",
    "print (tandemBicycle([5, 5, 3, 9, 2],[3, 6, 7, 2, 1],False))\n",
    "print()\n",
    "print (tandemBicycle([1, 2, 1, 9, 12, 3],[3, 3, 4, 6, 1, 2],False))\n",
    "print (tandemBicycle([1, 2, 1, 9, 12, 3],[3, 3, 4, 6, 1, 2],True))\n",
    "print()\n",
    "print (tandemBicycle([1, 2, 1, 9, 12, 3, 1, 54, 21, 231, 32, 1],[3, 3, 4, 6, 1, 2, 5, 6, 34, 256, 123, 32],True))\n",
    "print (tandemBicycle([1, 2, 1, 9, 12, 3, 1, 54, 21, 231, 32, 1],[3, 3, 4, 6, 1, 2, 5, 6, 34, 256, 123, 32],False))"
   ]
  },
  {
   "cell_type": "code",
   "execution_count": null,
   "id": "4cb2f09f",
   "metadata": {},
   "outputs": [],
   "source": []
  }
 ],
 "metadata": {
  "kernelspec": {
   "display_name": "Python 3 (ipykernel)",
   "language": "python",
   "name": "python3"
  },
  "language_info": {
   "codemirror_mode": {
    "name": "ipython",
    "version": 3
   },
   "file_extension": ".py",
   "mimetype": "text/x-python",
   "name": "python",
   "nbconvert_exporter": "python",
   "pygments_lexer": "ipython3",
   "version": "3.9.7"
  }
 },
 "nbformat": 4,
 "nbformat_minor": 5
}
