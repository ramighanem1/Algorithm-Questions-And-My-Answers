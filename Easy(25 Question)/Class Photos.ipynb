{
 "cells": [
  {
   "cell_type": "markdown",
   "id": "57be2215",
   "metadata": {},
   "source": [
    "# Class Photos : \n",
    "\n",
    "It's photo day at the local school, and you're the photographer assigned to take class photos. The class that you'll be photographing has an even number of students, and all these students are wearing red or blue shirts. In fact, exactly half of the class is wearing red shirts, and the other half is wearing blue shirts. You're responsible for arranging the students in two rows before taking the photo. Each row should contain the same number of the students and should adhere to the following guidelines:\n",
    "  \n",
    "  1) All students wearing red shirts must be in the same row.\n",
    "  2) All students wearing blue shirts must be in the same row.\n",
    "  3) Each student in the back row must be strictly taller than the student directly in front of them in the front row.\n",
    "  \n",
    "You're given two input arrays: one containing the heights of all the students with red shirts and another one containing the heights of all the students with blue shirts. These arrays will always have the same length, and each height will be a positive integer. Write a function that returns whether or not a class photo that follows the stated guidelines can be taken.\n",
    " \n",
    "Note: you can assume that each class has at least 2 students."
   ]
  },
  {
   "cell_type": "code",
   "execution_count": 5,
   "id": "bbfe2d14",
   "metadata": {},
   "outputs": [
    {
     "name": "stdout",
     "output_type": "stream",
     "text": [
      "True\n",
      "True\n",
      "False\n",
      "False\n",
      "True\n",
      "True\n",
      "False\n"
     ]
    }
   ],
   "source": [
    "#  time  complexity is O(n log(n)) \n",
    "#  space complexity is O(1)\n",
    "\n",
    "def classPhotos(redShirtHeights, blueShirtHeights):\n",
    "    redShirtHeights.sort()\n",
    "    blueShirtHeights.sort()\n",
    "    \n",
    "    CountRed = 0\n",
    "    CountBlue = 0\n",
    "        \n",
    "    for i in range(len(redShirtHeights)):\n",
    "        if redShirtHeights[i] == blueShirtHeights[i]:\n",
    "            return False\n",
    "        elif redShirtHeights[i] > blueShirtHeights[i]:\n",
    "            CountRed +=1\n",
    "        else:\n",
    "            CountBlue+=1\n",
    "        \n",
    "        if CountRed != 0 and CountBlue != 0 :\n",
    "            return False\n",
    "\n",
    "    return True\n",
    "\n",
    "\n",
    "print (classPhotos([5, 8, 1, 3, 4],[6, 9, 2, 4, 5])) \n",
    "print (classPhotos([6, 9, 2, 4, 5],[5, 8, 1, 3, 4])) \n",
    "print (classPhotos([6, 9, 2, 4, 5, 1],[5, 8, 1, 3, 4, 9])) \n",
    "print (classPhotos([6],[6])) \n",
    "print (classPhotos([126],[125])) \n",
    "print (classPhotos([1, 2, 3, 4, 5],[2, 3, 4, 5, 6])) \n",
    "print (classPhotos([1, 1, 1, 1, 1, 1, 1, 1],[5, 6, 7, 2, 3, 1, 2, 3])) "
   ]
  },
  {
   "cell_type": "code",
   "execution_count": null,
   "id": "a347b571",
   "metadata": {},
   "outputs": [],
   "source": []
  }
 ],
 "metadata": {
  "kernelspec": {
   "display_name": "Python 3 (ipykernel)",
   "language": "python",
   "name": "python3"
  },
  "language_info": {
   "codemirror_mode": {
    "name": "ipython",
    "version": 3
   },
   "file_extension": ".py",
   "mimetype": "text/x-python",
   "name": "python",
   "nbconvert_exporter": "python",
   "pygments_lexer": "ipython3",
   "version": "3.9.7"
  }
 },
 "nbformat": 4,
 "nbformat_minor": 5
}
