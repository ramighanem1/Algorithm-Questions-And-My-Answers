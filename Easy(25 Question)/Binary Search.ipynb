{
 "cells": [
  {
   "cell_type": "markdown",
   "id": "68e27e0b",
   "metadata": {},
   "source": [
    "# Binary Search : \n",
    "\n",
    "Write a function that takes in a sorted array of integers as well as a target integer. The function should use the Binary Search algorithm to determine if the target integer is contained in the array and should return its index if it is,\n",
    "otherwise -1"
   ]
  },
  {
   "cell_type": "code",
   "execution_count": 18,
   "id": "8e6f55ec",
   "metadata": {},
   "outputs": [
    {
     "name": "stdout",
     "output_type": "stream",
     "text": [
      "3\n",
      "1\n",
      "-1\n"
     ]
    }
   ],
   "source": [
    "#  time  complexity is O(nlog(n)) \n",
    "#  space complexity is O(nlog(n))\n",
    "\n",
    "def binarySearchRecursive(array,target,Left,Right):\n",
    "    if Left > Right:\n",
    "        return -1\n",
    "    MidIndex = (Left + Right) // 2\n",
    "    if array[MidIndex]==target:\n",
    "        return MidIndex\n",
    "    elif target < array[MidIndex]:\n",
    "        return binarySearchRecursive(array,target,Left,MidIndex - 1)\n",
    "    else:\n",
    "        return binarySearchRecursive(array,target,MidIndex + 1,Right)\n",
    "        \n",
    "\n",
    "def binarySearch(array, target):\n",
    "    Lasttindex = len(array) - 1\n",
    "    FirstIndex = 0\n",
    "    return binarySearchRecursive(array,target,FirstIndex,Lasttindex)\n",
    "\n",
    "\n",
    "print(binarySearch([0, 1, 21, 33, 45, 45, 61, 71, 72, 73],33))\n",
    "print (binarySearch([1, 5, 23, 111],5))\n",
    "print (binarySearch([1, 5, 23, 111],35))"
   ]
  },
  {
   "cell_type": "code",
   "execution_count": null,
   "id": "29f0ec68",
   "metadata": {},
   "outputs": [],
   "source": []
  }
 ],
 "metadata": {
  "kernelspec": {
   "display_name": "Python 3 (ipykernel)",
   "language": "python",
   "name": "python3"
  },
  "language_info": {
   "codemirror_mode": {
    "name": "ipython",
    "version": 3
   },
   "file_extension": ".py",
   "mimetype": "text/x-python",
   "name": "python",
   "nbconvert_exporter": "python",
   "pygments_lexer": "ipython3",
   "version": "3.9.7"
  }
 },
 "nbformat": 4,
 "nbformat_minor": 5
}
