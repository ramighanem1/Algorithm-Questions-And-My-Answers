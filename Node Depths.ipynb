{
 "cells": [
  {
   "cell_type": "markdown",
   "id": "52d45fc5",
   "metadata": {},
   "source": [
    "# Node Depths :\n",
    "\n",
    "The distance between a node in a Binary Tree and the tree's root is called the node's depth.\n",
    "\n",
    "Write a function that takes in a Binary Tree and returns the sum of its nodes' depths.\n",
    "\n",
    "Each BinaryTree node has an integer value, a left child node, and a right child node. Children nodes can either be BinaryTree nodes themselves or None / null."
   ]
  },
  {
   "cell_type": "code",
   "execution_count": 1,
   "id": "6229d839",
   "metadata": {},
   "outputs": [
    {
     "name": "stdout",
     "output_type": "stream",
     "text": [
      "16\n"
     ]
    }
   ],
   "source": [
    "# average case: \n",
    "#  time  complexity is O(log(n)) \n",
    "#  space complexity is O(log(n)) \n",
    "\n",
    "# worst case if tree similar to list ex: 10 -> 15 -> 20 -> 22  :\n",
    "#  time  complexity is O(n) \n",
    "#  space complexity is O(n) \n",
    "class BinaryTree:\n",
    "    def __init__(self, value):\n",
    "        self.value = value\n",
    "        self.left = None\n",
    "        self.right = None\n",
    "\n",
    "        \n",
    "def nodeDepthsSum(root,depth):\n",
    "    if root is None:\n",
    "        return 0\n",
    "    return depth + nodeDepthsSum(root.left,depth+1) + nodeDepthsSum(root.right,depth+1)\n",
    "\n",
    "\n",
    "\n",
    "def nodeDepths(root):\n",
    "     return nodeDepthsSum(root,0)\n",
    "\n",
    "\n",
    "\n",
    "root = BinaryTree(1)\n",
    "root.left = BinaryTree(2)\n",
    "root.left.left = BinaryTree(4)\n",
    "root.left.left.left = BinaryTree(8)\n",
    "root.left.left.right = BinaryTree(9)\n",
    "root.left.right = BinaryTree(5)\n",
    "root.right = BinaryTree(3)\n",
    "root.right.left = BinaryTree(6)\n",
    "root.right.right = BinaryTree(7)\n",
    "\n",
    "print(nodeDepths(root))\n",
    "\n",
    "root=None"
   ]
  },
  {
   "cell_type": "code",
   "execution_count": null,
   "id": "684f9272",
   "metadata": {},
   "outputs": [],
   "source": []
  }
 ],
 "metadata": {
  "kernelspec": {
   "display_name": "Python 3 (ipykernel)",
   "language": "python",
   "name": "python3"
  },
  "language_info": {
   "codemirror_mode": {
    "name": "ipython",
    "version": 3
   },
   "file_extension": ".py",
   "mimetype": "text/x-python",
   "name": "python",
   "nbconvert_exporter": "python",
   "pygments_lexer": "ipython3",
   "version": "3.9.7"
  }
 },
 "nbformat": 4,
 "nbformat_minor": 5
}
