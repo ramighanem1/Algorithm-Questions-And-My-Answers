{
 "cells": [
  {
   "cell_type": "markdown",
   "id": "a64224e3",
   "metadata": {},
   "source": [
    "# Depth-first Search : \n",
    "\n",
    "You're given a Node class that has a name and an array of optional children nodes. When put together, nodes form an acyclic tree-like structure.\n",
    "\n",
    "Implement the depthFirstSearch method on the Node using the Depth-first Search approach (specifically navigating the tree from left to right), stores all of the nodes' names in the input array, and returns it.\n",
    " "
   ]
  },
  {
   "cell_type": "code",
   "execution_count": 2,
   "id": "0d1bd025",
   "metadata": {},
   "outputs": [
    {
     "name": "stdout",
     "output_type": "stream",
     "text": [
      "['A', 'B', 'E', 'F', 'I', 'J', 'C', 'D', 'G', 'K', 'H']\n"
     ]
    }
   ],
   "source": [
    "#  time  complexity is O(v + e)        v: vertices( Node )  e: edges(Line)\n",
    "#  space complexity is O(v)\n",
    "\n",
    "class Node:\n",
    "    def __init__(self, name):\n",
    "        self.children = []\n",
    "        self.name = name\n",
    "\n",
    "    def addChild(self, name):\n",
    "        self.children.append(Node(name))\n",
    "        return self\n",
    "    \n",
    "    def depthFirstSearchRecursion (self,array):\n",
    "        array.append(self.name)\n",
    "        if len(self.children)==0:\n",
    "            return array\n",
    "        for i in self.children:\n",
    "            i.depthFirstSearchRecursion(array)\n",
    "        return array\n",
    "\n",
    "    def depthFirstSearch(self, array):\n",
    "        return self.depthFirstSearchRecursion(array)\n",
    "\n",
    "\n",
    "\n",
    "Root = Node(\"A\")\n",
    "\n",
    "Root.addChild(\"B\").addChild(\"C\").addChild(\"D\")\n",
    "Root.children[0].addChild(\"E\").addChild(\"F\")\n",
    "Root.children[2].addChild(\"G\").addChild(\"H\")\n",
    "Root.children[0].children[1].addChild(\"I\").addChild(\"J\")\n",
    "Root.children[2].children[0].addChild(\"K\")\n",
    "\n",
    "print(Root.depthFirstSearch([]))"
   ]
  },
  {
   "cell_type": "code",
   "execution_count": null,
   "id": "868dad4c",
   "metadata": {},
   "outputs": [],
   "source": []
  }
 ],
 "metadata": {
  "kernelspec": {
   "display_name": "Python 3 (ipykernel)",
   "language": "python",
   "name": "python3"
  },
  "language_info": {
   "codemirror_mode": {
    "name": "ipython",
    "version": 3
   },
   "file_extension": ".py",
   "mimetype": "text/x-python",
   "name": "python",
   "nbconvert_exporter": "python",
   "pygments_lexer": "ipython3",
   "version": "3.9.7"
  }
 },
 "nbformat": 4,
 "nbformat_minor": 5
}
