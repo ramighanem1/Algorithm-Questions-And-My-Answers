{
 "cells": [
  {
   "cell_type": "markdown",
   "id": "530a89ff",
   "metadata": {},
   "source": [
    "# Tournament Winner : \n",
    "\n",
    "There's an algorithms tournament taking place in which teams of programmers compete against each other to solve algorithmic problems as fast as possible. Teams compete in a round robin, where each team faces off against all other teams. Only two teams compete against each other at a time, and for each competition, one team is designated the home team, while the other team is the away team.\n",
    "\n",
    "In each competition there's always one winner and one loser; there are no ties. A team receives 3 points if it wins and 0       points if it loses. The winner of the tournament is the team that receives the most amount of points.\n",
    "\n",
    "Given an array of pairs representing the teams that have competed against each other and an array containing the results of each competition, write a function that returns the winner of the tournament. The input arrays are named competitions and results, respectively. The competitions array has elements in the form of [homeTeam, awayTeam] , where each team is a string of at most 30 characters representing the name of the team. The results array contains information about the winner of each corresponding competition in the competitions  array. Specifically, results[i] denotes the winner of competitions[i], where a 1 in the results  array means that the home team in the corresponding competition won and a 0  means that the away team won.\n",
    "\n",
    "It's guaranteed that exactly one team will win the tournament and that each team will compete against all other teams exactly once. It's also guaranteed that the tournament will always have at least two teams."
   ]
  },
  {
   "cell_type": "code",
   "execution_count": 1,
   "id": "faebaeba",
   "metadata": {},
   "outputs": [
    {
     "name": "stdout",
     "output_type": "stream",
     "text": [
      "Python\n",
      "Java\n",
      "C#\n",
      "C#\n",
      "Bulls\n",
      "Eagles\n",
      "Bulls\n",
      "AlgoMasters\n"
     ]
    }
   ],
   "source": [
    "#  time  complexity is O(N) \n",
    "#  space complexity is O(1)\n",
    "\n",
    "def tournamentWinner(competitions, results):\n",
    "    ResultDictionary = {}\n",
    "    WinnerTeamValue=0\n",
    "    WinnerTeam = competitions[0][0]\n",
    "    for index,match in enumerate(competitions):\n",
    "        WinnerIndex=0\n",
    "        if results[index] == 0:\n",
    "            WinnerIndex=1\n",
    "        if match[WinnerIndex] in ResultDictionary:\n",
    "            value1=ResultDictionary[match[WinnerIndex]]\n",
    "            if WinnerTeam != match[WinnerIndex] and WinnerTeamValue < (value1 + 3):\n",
    "                WinnerTeamValue = ResultDictionary[match[WinnerIndex]] + 3\n",
    "                WinnerTeam = match[WinnerIndex]\n",
    "            elif WinnerTeam == match[WinnerIndex]:\n",
    "                WinnerTeamValue+=3\n",
    "            ResultDictionary[match[WinnerIndex]] = ResultDictionary[match[WinnerIndex]] + 3\n",
    "        else:\n",
    "            ResultDictionary[match[WinnerIndex]] = 3\n",
    "            if WinnerTeamValue==0:\n",
    "                WinnerTeam = match[WinnerIndex]\n",
    "                WinnerTeamValue =3\n",
    "            \n",
    "            \n",
    "    return WinnerTeam\n",
    "\n",
    "\n",
    "print (tournamentWinner([[\"HTML\", \"C#\"],[\"C#\", \"Python\"],[\"Python\", \"HTML\"]],[0, 0, 1]))\n",
    "print (tournamentWinner([[\"HTML\", \"Java\"],[\"Java\", \"Python\"],[\"Python\", \"HTML\"]],[0, 1, 1]))\n",
    "print (tournamentWinner([[\"HTML\", \"Java\"],[\"Java\", \"Python\"],[\"Python\", \"HTML\"],[\"C#\", \"Python\"],[\"Java\", \"C#\"],[\"C#\", \"HTML\"]],[0, 1, 1, 1, 0, 1]))\n",
    "print (tournamentWinner([[\"HTML\", \"Java\"],[\"Java\", \"Python\"],[\"Python\", \"HTML\"],[\"C#\", \"Python\"],[\"Java\", \"C#\"],[\"C#\", \"HTML\"],[\"SQL\", \"C#\"],[\"HTML\", \"SQL\"],[\"SQL\", \"Python\"],[\"SQL\", \"Java\"]],[0, 1, 1, 1, 0, 1, 0, 1, 1, 0]))\n",
    "print (tournamentWinner([[\"Bulls\", \"Eagles\"]],[1]))\n",
    "print (tournamentWinner([[\"Bulls\", \"Eagles\"],[\"Bulls\", \"Bears\"],[\"Bears\", \"Eagles\"]],[0, 0, 0]))\n",
    "print (tournamentWinner([[\"Bulls\", \"Eagles\"],[\"Bulls\", \"Bears\"],[\"Bulls\", \"Monkeys\"],[\"Eagles\", \"Bears\"],[\"Eagles\", \"Monkeys\"],[\"Bears\", \"Monkeys\"]],[1, 1, 1, 1, 1, 1]))\n",
    "print (tournamentWinner([[\"AlgoMasters\", \"FrontPage Freebirds\"],[\"Runtime Terror\", \"Static Startup\"],[\"WeC#\", \"Hypertext Assassins\"],[\"AlgoMasters\", \"WeC#\"],[\"Static Startup\", \"Hypertext Assassins\"],[\"Runtime Terror\", \"FrontPage Freebirds\"],[\"AlgoMasters\", \"Runtime Terror\"],[\"Hypertext Assassins\", \"FrontPage Freebirds\"],[\"Static Startup\", \"WeC#\"],[\"AlgoMasters\", \"Static Startup\"],[\"FrontPage Freebirds\", \"WeC#\"],[\"Hypertext Assassins\", \"Runtime Terror\"],[\"AlgoMasters\", \"Hypertext Assassins\"],[\"WeC#\", \"Runtime Terror\"],[\"FrontPage Freebirds\", \"Static Startup\"]],[1, 0, 0, 1, 0, 0, 1, 0, 0, 1, 0, 0, 1, 0, 0]))"
   ]
  },
  {
   "cell_type": "code",
   "execution_count": null,
   "id": "914c120f",
   "metadata": {},
   "outputs": [],
   "source": []
  }
 ],
 "metadata": {
  "kernelspec": {
   "display_name": "Python 3 (ipykernel)",
   "language": "python",
   "name": "python3"
  },
  "language_info": {
   "codemirror_mode": {
    "name": "ipython",
    "version": 3
   },
   "file_extension": ".py",
   "mimetype": "text/x-python",
   "name": "python",
   "nbconvert_exporter": "python",
   "pygments_lexer": "ipython3",
   "version": "3.9.7"
  }
 },
 "nbformat": 4,
 "nbformat_minor": 5
}
