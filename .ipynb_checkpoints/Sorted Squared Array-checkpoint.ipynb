{
 "cells": [
  {
   "cell_type": "markdown",
   "id": "cd9bb956",
   "metadata": {},
   "source": [
    "# Sorted Squared Array :\n",
    "\n",
    "Write a function that takes in a non-empty array of integers that are sorted in ascending order and returns a new array of the same length with the squares of the original integers also sorted in ascending order."
   ]
  },
  {
   "cell_type": "code",
   "execution_count": 17,
   "id": "8c772842",
   "metadata": {},
   "outputs": [
    {
     "name": "stdout",
     "output_type": "stream",
     "text": [
      "[1, 4, 9, 25, 36, 64, 81]\n",
      "[1]\n",
      "[1, 4]\n",
      "[1, 4, 9, 16, 25]\n",
      "[1, 4]\n",
      "[1, 4, 9, 16, 25]\n",
      "[100]\n",
      "[1, 9, 49, 81, 484, 900]\n",
      "[0, 0, 1, 1, 1, 4, 4, 9, 169, 361, 400, 2500]\n",
      "[1, 1, 4, 9, 9, 9, 16]\n"
     ]
    }
   ],
   "source": [
    "#  time  complexity is O(N) \n",
    "#  space complexity is O(N)\n",
    "\n",
    "def Square(x):\n",
    "    return x*x\n",
    "\n",
    "def sortedSquaredArray(array):\n",
    "    OutArray=[0 for i in range(len(array)) ]\n",
    "    StartIndex=0\n",
    "    LastIndex=len(array)-1\n",
    "    \n",
    "    for i in range(len(array)-1,-1,-1):\n",
    "        if Square(array[StartIndex]) >= Square(array[LastIndex]):\n",
    "            OutArray[i]=Square(array[StartIndex])\n",
    "            StartIndex +=1\n",
    "        else:\n",
    "            OutArray[i]= Square(array[LastIndex])\n",
    "            LastIndex -=1\n",
    "\n",
    "    return OutArray\n",
    "\n",
    "\n",
    "\n",
    "\n",
    "\n",
    "print(sortedSquaredArray([1, 2, 3, 5, 6, 8, 9]))\n",
    "print(sortedSquaredArray([1]))\n",
    "print(sortedSquaredArray([1, 2]))\n",
    "print(sortedSquaredArray([1, 2, 3, 4, 5]))\n",
    "print(sortedSquaredArray([-2, -1]))\n",
    "print(sortedSquaredArray([-5, -4, -3, -2, -1]))\n",
    "print(sortedSquaredArray([-10]))\n",
    "print(sortedSquaredArray([-7, -3, 1, 9, 22, 30]))\n",
    "print(sortedSquaredArray([-50, -13, -2, -1, 0, 0, 1, 1, 2, 3, 19, 20]))\n",
    "print(sortedSquaredArray([-1, -1, 2, 3, 3, 3, 4]))"
   ]
  },
  {
   "cell_type": "code",
   "execution_count": null,
   "id": "59dc5b41",
   "metadata": {},
   "outputs": [],
   "source": []
  }
 ],
 "metadata": {
  "kernelspec": {
   "display_name": "Python 3 (ipykernel)",
   "language": "python",
   "name": "python3"
  },
  "language_info": {
   "codemirror_mode": {
    "name": "ipython",
    "version": 3
   },
   "file_extension": ".py",
   "mimetype": "text/x-python",
   "name": "python",
   "nbconvert_exporter": "python",
   "pygments_lexer": "ipython3",
   "version": "3.9.7"
  }
 },
 "nbformat": 4,
 "nbformat_minor": 5
}
