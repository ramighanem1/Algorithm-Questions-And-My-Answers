{
 "cells": [
  {
   "cell_type": "markdown",
   "id": "00d2d254",
   "metadata": {},
   "source": [
    "Given two non-empty arrays of integers, write a function that determines whether the second array is a subsequence of the first one.\n",
    "\n",
    "A subsequence of an array is a set of numbers that aren't necessarily adjacent in the array but that are in the same order as they appear in the array. For instance, the numbers [1, 3, 4] form a subsequence of the array [1, 2, 3, 4], and so do the numbers [2, 4] .\n",
    "\n",
    "Note\n",
    "  that a single number in an array and the array itself are both valid\n",
    "  subsequences of the array.\n"
   ]
  },
  {
   "cell_type": "code",
   "execution_count": 4,
   "id": "cd5ed50f",
   "metadata": {},
   "outputs": [
    {
     "name": "stdout",
     "output_type": "stream",
     "text": [
      "True\n",
      "True\n",
      "True\n",
      "True\n",
      "True\n",
      "True\n",
      "\n",
      "False\n",
      "False\n"
     ]
    }
   ],
   "source": [
    "#  time  complexity is O(N) \n",
    "#  space complexity is O(1)\n",
    "def isValidSubsequence(array, sequence):\n",
    "    if len(sequence) > len(array):\n",
    "        return False\n",
    "    index=0\n",
    "    for i in array:\n",
    "        if len(sequence) == index:\n",
    "            return True\n",
    "        if sequence[index] == i:\n",
    "            index += 1\n",
    "    return len(sequence) == index\n",
    "\n",
    "\n",
    "\n",
    "print (isValidSubsequence([5, 1, 22, 25, 6, -1, 8, 10],[1, 6, -1, 10]))\n",
    "print (isValidSubsequence([5, 1, 22, 25, 6, -1, 8, 10],[5, 1, 22, 25, 6, -1, 8, 10]))\n",
    "print (isValidSubsequence([5, 1, 22, 25, 6, -1, 8, 10],[5, 1, 22, 10]))\n",
    "print (isValidSubsequence([5, 1, 22, 25, 6, -1, 8, 10],[5, -1, 8, 10]))\n",
    "print (isValidSubsequence([5, 1, 22, 25, 6, -1, 8, 10],[25]))\n",
    "print (isValidSubsequence([1, 1, 1, 1, 1],[1, 1, 1]))\n",
    "\n",
    "print()\n",
    "\n",
    "print (isValidSubsequence([5, 1, 22, 25, 6, -1, 8, 10],[5, 1, 25, 22, 6, -1, 8, 10]))\n",
    "print (isValidSubsequence([5, 1, 22, 25, 6, -1, 8, 10], [5, 1, 22, 25, 6, -1, 8, 10, 10]))"
   ]
  },
  {
   "cell_type": "code",
   "execution_count": null,
   "id": "1b66bdbd",
   "metadata": {},
   "outputs": [],
   "source": []
  }
 ],
 "metadata": {
  "kernelspec": {
   "display_name": "Python 3 (ipykernel)",
   "language": "python",
   "name": "python3"
  },
  "language_info": {
   "codemirror_mode": {
    "name": "ipython",
    "version": 3
   },
   "file_extension": ".py",
   "mimetype": "text/x-python",
   "name": "python",
   "nbconvert_exporter": "python",
   "pygments_lexer": "ipython3",
   "version": "3.9.7"
  }
 },
 "nbformat": 4,
 "nbformat_minor": 5
}
