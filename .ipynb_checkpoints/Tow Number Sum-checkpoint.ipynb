{
 "cells": [
  {
   "cell_type": "markdown",
   "id": "36794782",
   "metadata": {},
   "source": [
    "  Write a function that takes in a non-empty array of distinct integers and an\n",
    "  integer representing a target sum. If any two numbers in the input array sum\n",
    "  up to the target sum, the function should return them in an array, in any\n",
    "  order. If no two numbers sum up to the target sum, the function should return\n",
    "  an empty array."
   ]
  },
  {
   "cell_type": "code",
   "execution_count": 6,
   "id": "d7652970",
   "metadata": {},
   "outputs": [
    {
     "name": "stdout",
     "output_type": "stream",
     "text": [
      "[11, -1]\n",
      "[4, 6]\n",
      "[4, 1]\n",
      "[]\n"
     ]
    }
   ],
   "source": [
    "#  time  complexity is O(N^2) \n",
    "#  space complexity is O(1)\n",
    "\n",
    "def twoNumberSum(array, targetSum):\n",
    "    for index1,num in enumerate(array):\n",
    "        for index2,num2 in enumerate(array):\n",
    "            if index2 != index1 :\n",
    "                if num+num2==targetSum:\n",
    "                    return [num,num2]\n",
    "    return []\n",
    "\n",
    "\n",
    "print (twoNumberSum([3, 5, -4, 8, 11, 1, -1, 6],10))\n",
    "print (twoNumberSum([4, 6],10))\n",
    "print (twoNumberSum([4, 6, 1],5))\n",
    "print (twoNumberSum([15],15))"
   ]
  },
  {
   "cell_type": "code",
   "execution_count": null,
   "id": "60fcbcaa",
   "metadata": {},
   "outputs": [],
   "source": []
  }
 ],
 "metadata": {
  "kernelspec": {
   "display_name": "Python 3 (ipykernel)",
   "language": "python",
   "name": "python3"
  },
  "language_info": {
   "codemirror_mode": {
    "name": "ipython",
    "version": 3
   },
   "file_extension": ".py",
   "mimetype": "text/x-python",
   "name": "python",
   "nbconvert_exporter": "python",
   "pygments_lexer": "ipython3",
   "version": "3.8.12"
  }
 },
 "nbformat": 4,
 "nbformat_minor": 5
}
